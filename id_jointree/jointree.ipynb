{
 "cells": [
  {
   "cell_type": "markdown",
   "metadata": {},
   "source": [
    "Assume that we have the following influence diagram and we want to solve it using the jointree algorithm:\n",
    "\n",
    "![](https://rawgit.com/bhrzslm/notebooks/gh-pages/images/model1.svg)"
   ]
  },
  {
   "cell_type": "markdown",
   "metadata": {},
   "source": [
    "A quick review of the symbols in the model above:\n",
    "- stochastic variables:\n",
    "  - $r_i$: reward associated with item $i$\n",
    "  - $w_i$: weight of item $i$\n",
    "  - $h_i$: hidden variable affecting properties of item $i$\n",
    "- decision variables:\n",
    "  - $X_i$: binary decision variable indicating whether or not to take item $i$\n",
    "- utility variables:\n",
    "  - $U_i$: contribution of item $i$ to the objective function. These variables depend on their parents via this deterministic relation: $U_i = r_i * X_i$\n",
    "  - $U_p$: a utility of $- \\infty$ for assignments that violate the constraint, zero otherwise\n",
    "- a deterministic variable representing the constraint $\\sum_i w_i X_i < C$\n",
    "\n",
    "Conversion of influence diagrams into jointrees is a bit different from that of Bayesian networks. However I only have the code for converting Bayesian networks to jointrees. So instead of the diagram above, I will compile the following network:"
   ]
  },
  {
   "cell_type": "markdown",
   "metadata": {},
   "source": [
    "![](https://cdn.rawgit.com/bhrzslm/notebooks/gh-pages/images/bn1.svg)"
   ]
  },
  {
   "cell_type": "code",
   "execution_count": 1,
   "metadata": {
    "collapsed": true
   },
   "outputs": [],
   "source": [
    "push!(LOAD_PATH, pwd())\n",
    "using JoinTreeInference.Node\n",
    "using JoinTreeInference.Potential\n",
    "using JoinTreeInference.parse_net\n",
    "using JoinTreeInference.create_moral_graph\n",
    "using JoinTreeInference.triangulate_graph\n",
    "using JoinTreeInference.create_junction_tree"
   ]
  },
  {
   "cell_type": "markdown",
   "metadata": {},
   "source": [
    "The first step is to create the moral graph of the Bayesian network"
   ]
  },
  {
   "cell_type": "code",
   "execution_count": 2,
   "metadata": {
    "collapsed": false,
    "scrolled": true
   },
   "outputs": [
    {
     "data": {
      "text/plain": [
       "Dict{String,Set{String}} with 12 entries:\n",
       "  \"h1\" => Set(String[\"r1\",\"h2\",\"w1\"])\n",
       "  \"c\"  => Set(String[\"x1\",\"x2\",\"w1\",\"w2\",\"up\"])\n",
       "  \"w1\" => Set(String[\"h1\",\"x1\",\"c\",\"x2\",\"w2\"])\n",
       "  \"u1\" => Set(String[\"x1\",\"r1\"])\n",
       "  \"up\" => Set(String[\"c\"])\n",
       "  \"h2\" => Set(String[\"h1\",\"r2\",\"w2\"])\n",
       "  \"x2\" => Set(String[\"x1\",\"c\",\"r2\",\"w1\",\"w2\",\"u2\"])\n",
       "  \"w2\" => Set(String[\"x1\",\"c\",\"h2\",\"x2\",\"w1\"])\n",
       "  \"u2\" => Set(String[\"r2\",\"x2\"])\n",
       "  \"x1\" => Set(String[\"c\",\"r1\",\"x2\",\"w1\",\"w2\",\"u1\"])\n",
       "  \"r1\" => Set(String[\"h1\",\"x1\",\"u1\"])\n",
       "  \"r2\" => Set(String[\"h2\",\"x2\",\"u2\"])"
      ]
     },
     "execution_count": 2,
     "metadata": {},
     "output_type": "execute_result"
    }
   ],
   "source": [
    "nodes, potentials = parse_net(\"./bn.net\")\n",
    "g_moral = create_moral_graph(nodes, potentials)"
   ]
  },
  {
   "cell_type": "markdown",
   "metadata": {},
   "source": [
    "This is what the moral graph looks like:"
   ]
  },
  {
   "cell_type": "markdown",
   "metadata": {},
   "source": [
    "![](https://rawgit.com/bhrzslm/notebooks/gh-pages/images/bn_moral.svg)"
   ]
  },
  {
   "cell_type": "markdown",
   "metadata": {},
   "source": [
    "Next, we triangulate the moral graph:"
   ]
  },
  {
   "cell_type": "code",
   "execution_count": 7,
   "metadata": {
    "collapsed": false,
    "scrolled": true
   },
   "outputs": [
    {
     "data": {
      "text/plain": [
       "Dict{String,Set{String}} with 12 entries:\n",
       "  \"h1\" => Set(String[\"x1\",\"r1\",\"h2\",\"w1\"])\n",
       "  \"c\"  => Set(String[\"x1\",\"x2\",\"w1\",\"w2\",\"up\"])\n",
       "  \"w1\" => Set(String[\"h1\",\"x1\",\"c\",\"h2\",\"x2\",\"w2\"])\n",
       "  \"u1\" => Set(String[\"x1\",\"r1\"])\n",
       "  \"up\" => Set(String[\"c\"])\n",
       "  \"h2\" => Set(String[\"h1\",\"x1\",\"r2\",\"x2\",\"w2\",\"w1\"])\n",
       "  \"x2\" => Set(String[\"x1\",\"c\",\"r2\",\"h2\",\"w1\",\"w2\",\"u2\"])\n",
       "  \"w2\" => Set(String[\"x1\",\"c\",\"h2\",\"x2\",\"w1\"])\n",
       "  \"u2\" => Set(String[\"r2\",\"x2\"])\n",
       "  \"x1\" => Set(String[\"h1\",\"c\",\"r1\",\"h2\",\"x2\",\"w1\",\"w2\",\"u1\"])\n",
       "  \"r1\" => Set(String[\"h1\",\"x1\",\"u1\"])\n",
       "  \"r2\" => Set(String[\"h2\",\"x2\",\"u2\"])"
      ]
     },
     "execution_count": 7,
     "metadata": {},
     "output_type": "execute_result"
    }
   ],
   "source": [
    "g_triangulated, clusters = triangulate_graph(g_moral, nodes)\n",
    "g_triangulated"
   ]
  },
  {
   "cell_type": "markdown",
   "metadata": {
    "collapsed": false,
    "scrolled": true
   },
   "source": [
    "Ok. So triangulation adds some new edges:"
   ]
  },
  {
   "cell_type": "markdown",
   "metadata": {},
   "source": [
    "![](https://rawgit.com/bhrzslm/notebooks/gh-pages/images/bn_triangulated.svg)"
   ]
  },
  {
   "cell_type": "markdown",
   "metadata": {},
   "source": [
    "We also collected the clusters (that is, the maximal cliques of the triangulated graph) during the triangulation step:"
   ]
  },
  {
   "cell_type": "code",
   "execution_count": 5,
   "metadata": {
    "collapsed": false,
    "scrolled": true
   },
   "outputs": [
    {
     "data": {
      "text/plain": [
       "8-element Array{Set{String},1}:\n",
       " Set(String[\"c\",\"up\"])                \n",
       " Set(String[\"x1\",\"r1\",\"u1\"])          \n",
       " Set(String[\"r2\",\"x2\",\"u2\"])          \n",
       " Set(String[\"x1\",\"c\",\"x2\",\"w1\",\"w2\"]) \n",
       " Set(String[\"h1\",\"x1\",\"r1\"])          \n",
       " Set(String[\"r2\",\"h2\",\"x2\"])          \n",
       " Set(String[\"h1\",\"x1\",\"h2\",\"w1\"])     \n",
       " Set(String[\"x1\",\"h2\",\"x2\",\"w2\",\"w1\"])"
      ]
     },
     "execution_count": 5,
     "metadata": {},
     "output_type": "execute_result"
    }
   ],
   "source": [
    "clusters"
   ]
  },
  {
   "cell_type": "markdown",
   "metadata": {},
   "source": [
    "These are the 8 clusters:"
   ]
  },
  {
   "cell_type": "markdown",
   "metadata": {},
   "source": [
    "![](https://rawgit.com/bhrzslm/notebooks/gh-pages/images/clusters.svg)"
   ]
  },
  {
   "cell_type": "markdown",
   "metadata": {},
   "source": [
    "It is difficult to see the clusters in the image above. So I removed the edges:"
   ]
  },
  {
   "cell_type": "markdown",
   "metadata": {},
   "source": [
    "![](https://rawgit.com/bhrzslm/notebooks/gh-pages/images/clusters2.svg)"
   ]
  },
  {
   "cell_type": "markdown",
   "metadata": {},
   "source": [
    "Now we can create the jointree (= junction tree = cluster tree)"
   ]
  },
  {
   "cell_type": "code",
   "execution_count": 6,
   "metadata": {
    "collapsed": false,
    "scrolled": true
   },
   "outputs": [
    {
     "data": {
      "text/plain": [
       "Dict{Int64,Set{Int64}} with 8 entries:\n",
       "  7 => Set([8,5])\n",
       "  4 => Set([8,1])\n",
       "  2 => Set([5])\n",
       "  3 => Set([6])\n",
       "  5 => Set([7,2])\n",
       "  8 => Set([7,4,6])\n",
       "  6 => Set([3,8])\n",
       "  1 => Set([4])"
      ]
     },
     "execution_count": 6,
     "metadata": {},
     "output_type": "execute_result"
    }
   ],
   "source": [
    "create_junction_tree(clusters, nodes)"
   ]
  },
  {
   "cell_type": "markdown",
   "metadata": {},
   "source": [
    "Each number in the list above is the index of a cluster in the `clusters` arrray. This is what the tree looks like:"
   ]
  },
  {
   "cell_type": "markdown",
   "metadata": {},
   "source": [
    "![](https://rawgit.com/bhrzslm/notebooks/gh-pages/images/jointree1.svg)"
   ]
  },
  {
   "cell_type": "markdown",
   "metadata": {},
   "source": [
    "First observation: the nodes $X_1, X_2, w_1, w_2, C$ have appeared in the same cluster. For my knapsack problem I expect this to be always the case, that is to have all $X_i, w_i, C$ in one cluster. The reason is that they are part of a factor, and the variables in each factor in the Bayesian network should be subset of variables of some cluster in the jointree. \n",
    "\n",
    "Looking at the steps in creation of jointree, this is reasonable I guess. The variables in a factor form a clique even before triangulation. So they will all be together in some maximal clique (which is some node in the jointree)."
   ]
  }
 ],
 "metadata": {
  "kernelspec": {
   "display_name": "Julia 0.6.0-dev",
   "language": "julia",
   "name": "julia-0.6"
  },
  "language_info": {
   "file_extension": ".jl",
   "mimetype": "application/julia",
   "name": "julia",
   "version": "0.6.0"
  }
 },
 "nbformat": 4,
 "nbformat_minor": 1
}
