{
 "cells": [
  {
   "cell_type": "markdown",
   "metadata": {},
   "source": [
    "Assume that we have the following influence diagram and we want to solve it using the jointree algorithm:\n",
    "\n",
    "![](https://rawgit.com/bhrzslm/notebooks/gh-pages/images/model1.svg)"
   ]
  },
  {
   "cell_type": "markdown",
   "metadata": {},
   "source": [
    "A quick review of the symbols in the model above:\n",
    "- stochastic variables:\n",
    "  - $r_i$: reward associated with item $i$\n",
    "  - $w_i$: weight of item $i$\n",
    "  - $h_i$: hidden variable affecting properties of item $i$\n",
    "- decision variables:\n",
    "  - $X_i$: binary decision variable indicating whether or not to take item $i$\n",
    "- utility variables:\n",
    "  - $U_i$: contribution of item $i$ to the objective function. These variables depend on their parents via this deterministic relation: $U_i = r_i * X_i$\n",
    "  - $U_p$: a utility of $- \\infty$ for assignments that violate the constraint, zero otherwise\n",
    "- a deterministic variable representing the constraint $\\sum_i w_i X_i < C$\n",
    "\n",
    "Conversion of influence diagrams into jointrees is a bit different from that of Bayesian networks. However I only have the code for converting Bayesian networks to jointrees. So instead of the diagram above, I will compile the following network:"
   ]
  },
  {
   "cell_type": "markdown",
   "metadata": {},
   "source": [
    "![](https://rawgit.com/bhrzslm/notebooks/gh-pages/images/bn1.svg)"
   ]
  },
  {
   "cell_type": "code",
   "execution_count": 2,
   "metadata": {
    "collapsed": true
   },
   "outputs": [],
   "source": [
    "push!(LOAD_PATH, pwd())\n",
    "using JoinTreeInference.Node\n",
    "using JoinTreeInference.Potential\n",
    "using JoinTreeInference.parse_net\n",
    "using JoinTreeInference.create_moral_graph\n",
    "using JoinTreeInference.triangulate_graph\n",
    "using JoinTreeInference.create_junction_tree"
   ]
  },
  {
   "cell_type": "code",
   "execution_count": 7,
   "metadata": {
    "collapsed": false,
    "scrolled": true
   },
   "outputs": [
    {
     "data": {
      "text/plain": [
       "Dict{String,Set{String}} with 12 entries:\n",
       "  \"h1\" => Set(String[\"r1\",\"h2\",\"w1\"])\n",
       "  \"c\"  => Set(String[\"x1\",\"x2\",\"w1\",\"w2\",\"up\"])\n",
       "  \"w1\" => Set(String[\"h1\",\"x1\",\"c\",\"x2\",\"w2\"])\n",
       "  \"u1\" => Set(String[\"x1\",\"r1\"])\n",
       "  \"up\" => Set(String[\"c\"])\n",
       "  \"h2\" => Set(String[\"h1\",\"r2\",\"w2\"])\n",
       "  \"x2\" => Set(String[\"x1\",\"c\",\"r2\",\"w1\",\"w2\",\"u2\"])\n",
       "  \"w2\" => Set(String[\"x1\",\"c\",\"h2\",\"x2\",\"w1\"])\n",
       "  \"u2\" => Set(String[\"r2\",\"x2\"])\n",
       "  \"x1\" => Set(String[\"c\",\"r1\",\"x2\",\"w1\",\"w2\",\"u1\"])\n",
       "  \"r1\" => Set(String[\"h1\",\"x1\",\"u1\"])\n",
       "  \"r2\" => Set(String[\"h2\",\"x2\",\"u2\"])"
      ]
     },
     "execution_count": 7,
     "metadata": {},
     "output_type": "execute_result"
    }
   ],
   "source": [
    "nodes, potentials = parse_net(\"./bn.net\")\n",
    "g_moral = create_moral_graph(nodes, potentials)"
   ]
  },
  {
   "cell_type": "markdown",
   "metadata": {},
   "source": [
    "![](https://rawgit.com/bhrzslm/notebooks/gh-pages/images/bn_moral.svg)"
   ]
  },
  {
   "cell_type": "code",
   "execution_count": 13,
   "metadata": {
    "collapsed": false,
    "scrolled": false
   },
   "outputs": [
    {
     "data": {
      "text/plain": [
       "(Dict(\"h1\"=>Set(String[\"x1\",\"r1\",\"h2\",\"w1\"]),\"c\"=>Set(String[\"x1\",\"x2\",\"w1\",\"w2\",\"up\"]),\"w1\"=>Set(String[\"h1\",\"x1\",\"c\",\"h2\",\"x2\",\"w2\"]),\"u1\"=>Set(String[\"x1\",\"r1\"]),\"up\"=>Set(String[\"c\"]),\"h2\"=>Set(String[\"h1\",\"x1\",\"r2\",\"x2\",\"w2\",\"w1\"]),\"x2\"=>Set(String[\"x1\",\"c\",\"r2\",\"h2\",\"w1\",\"w2\",\"u2\"]),\"w2\"=>Set(String[\"x1\",\"c\",\"h2\",\"x2\",\"w1\"]),\"u2\"=>Set(String[\"r2\",\"x2\"]),\"x1\"=>Set(String[\"h1\",\"c\",\"r1\",\"h2\",\"x2\",\"w1\",\"w2\",\"u1\"])…),Set{String}[Set(String[\"c\",\"up\"]),Set(String[\"x1\",\"r1\",\"u1\"]),Set(String[\"r2\",\"x2\",\"u2\"]),Set(String[\"x1\",\"c\",\"x2\",\"w1\",\"w2\"]),Set(String[\"h1\",\"x1\",\"r1\"]),Set(String[\"r2\",\"h2\",\"x2\"]),Set(String[\"h1\",\"x1\",\"h2\",\"w1\"]),Set(String[\"x1\",\"h2\",\"x2\",\"w2\",\"w1\"])])"
      ]
     },
     "execution_count": 13,
     "metadata": {},
     "output_type": "execute_result"
    }
   ],
   "source": [
    "g_triangulated, clusters = triangulate_graph(g_moral, nodes)"
   ]
  },
  {
   "cell_type": "code",
   "execution_count": 15,
   "metadata": {
    "collapsed": false,
    "scrolled": true
   },
   "outputs": [
    {
     "data": {
      "text/plain": [
       "Dict{String,Set{String}} with 12 entries:\n",
       "  \"h1\" => Set(String[\"x1\",\"r1\",\"h2\",\"w1\"])\n",
       "  \"c\"  => Set(String[\"x1\",\"x2\",\"w1\",\"w2\",\"up\"])\n",
       "  \"w1\" => Set(String[\"h1\",\"x1\",\"c\",\"h2\",\"x2\",\"w2\"])\n",
       "  \"u1\" => Set(String[\"x1\",\"r1\"])\n",
       "  \"up\" => Set(String[\"c\"])\n",
       "  \"h2\" => Set(String[\"h1\",\"x1\",\"r2\",\"x2\",\"w2\",\"w1\"])\n",
       "  \"x2\" => Set(String[\"x1\",\"c\",\"r2\",\"h2\",\"w1\",\"w2\",\"u2\"])\n",
       "  \"w2\" => Set(String[\"x1\",\"c\",\"h2\",\"x2\",\"w1\"])\n",
       "  \"u2\" => Set(String[\"r2\",\"x2\"])\n",
       "  \"x1\" => Set(String[\"h1\",\"c\",\"r1\",\"h2\",\"x2\",\"w1\",\"w2\",\"u1\"])\n",
       "  \"r1\" => Set(String[\"h1\",\"x1\",\"u1\"])\n",
       "  \"r2\" => Set(String[\"h2\",\"x2\",\"u2\"])"
      ]
     },
     "execution_count": 15,
     "metadata": {},
     "output_type": "execute_result"
    }
   ],
   "source": [
    "g_triangulated"
   ]
  },
  {
   "cell_type": "markdown",
   "metadata": {},
   "source": [
    "![](https://rawgit.com/bhrzslm/notebooks/gh-pages/images/bn_triangulated.svg)"
   ]
  },
  {
   "cell_type": "code",
   "execution_count": 14,
   "metadata": {
    "collapsed": false,
    "scrolled": true
   },
   "outputs": [
    {
     "data": {
      "text/plain": [
       "8-element Array{Set{String},1}:\n",
       " Set(String[\"c\",\"up\"])                \n",
       " Set(String[\"x1\",\"r1\",\"u1\"])          \n",
       " Set(String[\"r2\",\"x2\",\"u2\"])          \n",
       " Set(String[\"x1\",\"c\",\"x2\",\"w1\",\"w2\"]) \n",
       " Set(String[\"h1\",\"x1\",\"r1\"])          \n",
       " Set(String[\"r2\",\"h2\",\"x2\"])          \n",
       " Set(String[\"h1\",\"x1\",\"h2\",\"w1\"])     \n",
       " Set(String[\"x1\",\"h2\",\"x2\",\"w2\",\"w1\"])"
      ]
     },
     "execution_count": 14,
     "metadata": {},
     "output_type": "execute_result"
    }
   ],
   "source": [
    "clusters"
   ]
  },
  {
   "cell_type": "markdown",
   "metadata": {},
   "source": [
    "![](https://rawgit.com/bhrzslm/notebooks/gh-pages/images/clusters.svg)"
   ]
  },
  {
   "cell_type": "markdown",
   "metadata": {},
   "source": [
    "![](https://rawgit.com/bhrzslm/notebooks/gh-pages/images/clusters2.svg)"
   ]
  },
  {
   "cell_type": "code",
   "execution_count": 11,
   "metadata": {
    "collapsed": false
   },
   "outputs": [
    {
     "data": {
      "text/plain": [
       "Dict{Int64,Set{Int64}} with 8 entries:\n",
       "  7 => Set([8,5])\n",
       "  4 => Set([8,1])\n",
       "  2 => Set([5])\n",
       "  3 => Set([6])\n",
       "  5 => Set([7,2])\n",
       "  8 => Set([7,4,6])\n",
       "  6 => Set([3,8])\n",
       "  1 => Set([4])"
      ]
     },
     "execution_count": 11,
     "metadata": {},
     "output_type": "execute_result"
    }
   ],
   "source": [
    "create_junction_tree(clusters, nodes)"
   ]
  }
 ],
 "metadata": {
  "kernelspec": {
   "display_name": "Julia 0.6.0-dev",
   "language": "julia",
   "name": "julia-0.6"
  },
  "language_info": {
   "file_extension": ".jl",
   "mimetype": "application/julia",
   "name": "julia",
   "version": "0.6.0"
  }
 },
 "nbformat": 4,
 "nbformat_minor": 1
}
