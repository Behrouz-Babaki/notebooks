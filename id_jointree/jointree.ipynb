{
 "cells": [
  {
   "cell_type": "markdown",
   "metadata": {},
   "source": [
    "Assume that we have the following influence diagram and we want to solve it using the jointree algorithm:\n",
    "\n",
    "![](https://rawgit.com/bhrzslm/notebooks/gh-pages/images/model1.svg)"
   ]
  },
  {
   "cell_type": "markdown",
   "metadata": {},
   "source": [
    "A quick review of the symbols in the model above:\n",
    "- stochastic variables:\n",
    "  - $r_i$: reward associated with item $i$\n",
    "  - $w_i$: weight of item $i$\n",
    "  - $h_i$: hidden variable affecting properties of item $i$\n",
    "- decision variables:\n",
    "  - $X_i$: binary decision variable indicating whether or not to take item $i$\n",
    "- utility variables:\n",
    "  - $U_i$: contribution of item $i$ to the objective function. These variables depend on their parents via this deterministic relation: $U_i = r_i * X_i$\n",
    "  - $U_p$: a utility of $- \\infty$ for assignments that violate the constraint, zero otherwise\n",
    "- a deterministic variable representing the constraint $\\sum_i w_i X_i < C$\n",
    "\n",
    "Conversion of influence diagrams into jointrees is a bit different from that of Bayesian networks. However I only have the code for converting Bayesian networks to jointrees. So instead of the diagram above, I will compile the following network:"
   ]
  },
  {
   "cell_type": "markdown",
   "metadata": {},
   "source": [
    "![](https://rawgit.com/bhrzslm/notebooks/gh-pages/images/bn1.svg)"
   ]
  },
  {
   "cell_type": "code",
   "execution_count": 1,
   "metadata": {
    "collapsed": true
   },
   "outputs": [],
   "source": [
    "push!(LOAD_PATH, pwd())\n",
    "using JoinTreeInference.Node\n",
    "using JoinTreeInference.Potential\n",
    "using JoinTreeInference.parse_net\n",
    "using JoinTreeInference.create_moral_graph\n",
    "using JoinTreeInference.triangulate_graph\n",
    "using JoinTreeInference.create_junction_tree"
   ]
  },
  {
   "cell_type": "code",
   "execution_count": 5,
   "metadata": {
    "collapsed": false
   },
   "outputs": [
    {
     "ename": "LoadError",
     "evalue": "LoadError: ArgumentError: invalid number format \"\\t0.5\\t0.5\\t\" for Float64\nwhile loading In[5], in expression starting on line 1",
     "output_type": "error",
     "traceback": [
      "LoadError: ArgumentError: invalid number format \"\\t0.5\\t0.5\\t\" for Float64\nwhile loading In[5], in expression starting on line 1",
      "",
      " in parse(::Type{Float64}, ::String) at ./parse.jl:167",
      " in parse_data_statement(::SubString{String}) at /home/behrouz/temp/test_notebooks/jointree_jessa/JoinTreeInference.jl:59",
      " in parse_potential(::RegexMatch) at /home/behrouz/temp/test_notebooks/jointree_jessa/JoinTreeInference.jl:81",
      " in parse_net(::String) at /home/behrouz/temp/test_notebooks/jointree_jessa/JoinTreeInference.jl:99"
     ]
    }
   ],
   "source": [
    "parse_net(\"./bn.net\")"
   ]
  }
 ],
 "metadata": {
  "kernelspec": {
   "display_name": "Julia 0.5.0",
   "language": "julia",
   "name": "julia-0.5"
  },
  "language_info": {
   "file_extension": ".jl",
   "mimetype": "application/julia",
   "name": "julia",
   "version": "0.5.0"
  }
 },
 "nbformat": 4,
 "nbformat_minor": 1
}
