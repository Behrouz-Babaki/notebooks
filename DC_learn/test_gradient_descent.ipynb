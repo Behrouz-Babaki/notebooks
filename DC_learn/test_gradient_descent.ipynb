{
 "cells": [
  {
   "cell_type": "markdown",
   "metadata": {},
   "source": [
    "# Goal\n",
    "- implement the gradient-based learning using sampling\n",
    "- implement the EM method\n",
    "- compare the two using synthetic data"
   ]
  },
  {
   "cell_type": "markdown",
   "metadata": {},
   "source": [
    "# Introduction\n",
    "Our goal in this exercise is to learn the parameters of a model from incomplete data. The model is a mixture of Guassians. According to this model, each data point is sampled from one of $C$ Gaussian distributions, according to the class of that data point. The prior probability for class label follows a multinomial distribution:\n",
    "\n",
    "\\begin{equation}\n",
    "P(Z_i = j) = p_j \n",
    "\\end{equation}\n",
    "\n",
    "Given the class of a data point, its value follows a normal distribution with parameters that are specific to that class:\n",
    "\n",
    "\\begin{equation}\n",
    "P(Y_i = y | Z_i = j) = N(y; \\mu_j, \\sigma_j)\n",
    "\\end{equation}"
   ]
  },
  {
   "cell_type": "markdown",
   "metadata": {},
   "source": [
    "## Sampling the latent variables\n",
    "For each data point $Y_i$ we have:\n",
    "\n",
    "\\begin{align*}\n",
    "P(Z_i=j|Y_i=y_i;\\Theta) & \\propto P(Y_i=y_i|Z_i=j;\\Theta)P(Z_i=j;\\Theta)   \\\\\n",
    "                  & = N(y_i;\\mu_j,\\sigma_j) \\cdot p_j\n",
    "\\end{align*}\n",
    "\n",
    "Having the posterior of class label, we can sample the label from this posterior:"
   ]
  },
  {
   "cell_type": "code",
   "execution_count": 6,
   "metadata": {
    "collapsed": true
   },
   "outputs": [],
   "source": [
    "%matplotlib inline\n",
    "from scipy.stats import norm\n",
    "from numpy.random import multinomial\n",
    "from scipy.optimize import check_grad\n",
    "from numpy.random import random_sample, normal\n",
    "import numpy as np"
   ]
  },
  {
   "cell_type": "code",
   "execution_count": 1,
   "metadata": {
    "collapsed": false
   },
   "outputs": [],
   "source": [
    "\n",
    "\n",
    "# returns a vector with counts of each class\n",
    "def sample_label(parameters, y, num_samples=1):\n",
    "    multinomial_parameters, normal_parameters = parameters\n",
    "    assert len(multinomial_parameters) == len(normal_parameters)\n",
    "    num_classes = len(multinomial_parameters)\n",
    "    \n",
    "    posterior = [0.0] * num_classes\n",
    "    for i in range(num_classes):\n",
    "        mu, sigma = normal_parameters[i]\n",
    "        p = multinomial_parameters[i]\n",
    "        posterior[i] = norm.pdf(y, loc=mu, scale=sigma) * p\n",
    "    s = sum(posterior)\n",
    "    posterior = [ps/s for ps in posterior]\n",
    "    return multinomial(num_samples, posterior)\n",
    "    "
   ]
  },
  {
   "cell_type": "markdown",
   "metadata": {},
   "source": [
    "\n",
    "Let us test the correctness of gradients of normal distribution. Given $f(x, \\mu, \\sigma) = \\frac{1}{\\sigma\\sqrt{2\\pi}} e^{\\frac{(x-\\mu)^2}{2\\sigma^2}}$, I believe that:\n",
    "\\begin{align}\n",
    "\\frac{\\partial f}{\\partial \\mu} &= f . \\frac{1}{\\sigma} . \\big(\\frac{x-\\mu}{\\sigma}\\big) \\\\\n",
    "\\frac{\\partial f}{\\partial \\sigma} &= f . \\frac{1}{\\sigma} . \\big( (\\frac{x-\\mu}{\\sigma})^2 -1 \\big)\n",
    "\\end{align}"
   ]
  },
  {
   "cell_type": "code",
   "execution_count": 2,
   "metadata": {
    "collapsed": false
   },
   "outputs": [],
   "source": [
    "\n",
    "\n",
    "def f_normal(x):\n",
    "    def _f(inp):\n",
    "        mu, sigma = inp\n",
    "        return norm.pdf(x, loc=mu, scale=sigma)\n",
    "    return _f\n",
    "\n",
    "def fprime_normal(x):\n",
    "    def _fprime(inp):\n",
    "        f_val = f(x)(inp)\n",
    "        mu, sigma = inp\n",
    "        xms = (x-mu)/sigma\n",
    "        \n",
    "        grad=[0.0]*2\n",
    "        grad[0] = f_val/sigma * xms\n",
    "        grad[1] = f_val/sigma * (xms**2 - 1)\n",
    "        return grad\n",
    "    return _fprime\n",
    "\n",
    "# for i in range(10000):\n",
    "#     mu = 30 * random_sample()\n",
    "#     sigma = 10 * random_sample()\n",
    "#     val = normal(mu, sigma)\n",
    "#     diff =  check_grad(f(val), fprime(val), [mu, sigma])\n",
    "#     if diff > 1e-4:\n",
    "#         print mu, sigma, val, diff"
   ]
  },
  {
   "cell_type": "code",
   "execution_count": 3,
   "metadata": {
    "collapsed": false
   },
   "outputs": [
    {
     "name": "stdout",
     "output_type": "stream",
     "text": [
      "5.38506035344 0.00363342534285 5.38327370185 0.000585235335885\n",
      "13.71026131 0.00413189514206 13.7135427398 0.000584774133128\n",
      "12.762884064 0.000388700006458 12.7624113083 0.176544013766\n",
      "5.79996070808 0.0013070506426 5.79832647745 0.0166725823268\n",
      "22.7169343082 0.00640383741584 22.7220471063 0.000245976196361\n"
     ]
    }
   ],
   "source": [
    "\n",
    "\n",
    "def f_normal_log(x):\n",
    "    return lambda y : norm.logpdf(x, loc=y[0], scale=y[1])\n",
    "\n",
    "def fprime_normal_log(x):\n",
    "    def fprime_log_(y):\n",
    "        mu, sigma = y\n",
    "        xms = (x-mu)/sigma\n",
    "        fprime_mu = xms / sigma\n",
    "        fprime_sigma = (xms**2 - 1) / sigma\n",
    "        return (fprime_mu, fprime_sigma)\n",
    "    return fprime_log_\n",
    "\n",
    "for i in range(5000):\n",
    "    mu = 30 * random_sample()\n",
    "    sigma = 10 * random_sample()\n",
    "    val = normal(mu, sigma)\n",
    "    diff =  check_grad(f_normal_log(val), fprime_normal_log(val), [mu, sigma])\n",
    "    if diff > 1e-4:\n",
    "        print mu, sigma, val, diff"
   ]
  },
  {
   "cell_type": "code",
   "execution_count": 4,
   "metadata": {
    "collapsed": true
   },
   "outputs": [],
   "source": [
    "def test_multinomial(f_multinomial_pos, fprime_multinomial_pos, \n",
    "                    num_tests = 1000):\n",
    "    num_classes = np.random.randint(40)\n",
    "    for i in range(num_tests):\n",
    "        params = [normal(loc=0, scale=1) for i in range(num_classes)]\n",
    "        p2 = np.exp(params)\n",
    "        p2 = [i/sum(p2) for i in p2]\n",
    "        val = np.random.multinomial(1, p2)\n",
    "        val = np.where(val==1)[0][0]\n",
    "        diff =  check_grad(f_multinomial_pos(val), fprime_multinomial_pos(val), params)\n",
    "        if diff > 1e-4:\n",
    "            print params, val, diff\n",
    "            print f_multinomial_pos(val)(params) \n",
    "            print fprime_multinomial_pos(val)(params)\n",
    "            print approx_fprime(params, f_multinomial_pos(val), 1.49e-08)\n",
    "            print \n",
    "    print 'test finished'"
   ]
  },
  {
   "cell_type": "code",
   "execution_count": 7,
   "metadata": {
    "collapsed": false
   },
   "outputs": [
    {
     "name": "stdout",
     "output_type": "stream",
     "text": [
      "test finished\n"
     ]
    }
   ],
   "source": [
    "def f_multinomial_pos(label):\n",
    "    return (lambda parameters : np.exp(parameters[label]) / sum(np.exp(parameters)))\n",
    "\n",
    "def f_multinomial_log(label):\n",
    "    return (lambda parameters : parameters[label] - np.log(sum(np.exp(parameters))))\n",
    "\n",
    "def fprime_multinomial_log(label):\n",
    "    def _fprime_multinomial_log(parameters):\n",
    "        fprime = [-f_multinomial_pos(i)(parameters) for i in range(len(parameters))]\n",
    "        fprime[label] += 1\n",
    "        return fprime\n",
    "    return _fprime_multinomial_log\n",
    "    \n",
    "test_multinomial(f_multinomial_log, fprime_multinomial_log)    "
   ]
  },
  {
   "cell_type": "markdown",
   "metadata": {},
   "source": [
    "## Approximating the gradient\n",
    "The log likelihood of data point $i$ can be written as $L(\\Theta) = \\log P(Y_i, Z_i;\\Theta)$. \n",
    "So the gradient of log-likelihood function can be written as:\n",
    "\n",
    "\\begin{equation}\n",
    "\\partial_{\\Theta} L(\\Theta) = \n",
    "\\end{equation}"
   ]
  },
  {
   "cell_type": "markdown",
   "metadata": {},
   "source": [
    "## A very important observation\n",
    "The differences in the values of `multinomial_parameters` leads to exponential differences, and does not let samples from other classes to be generated. "
   ]
  },
  {
   "cell_type": "code",
   "execution_count": 8,
   "metadata": {
    "collapsed": false
   },
   "outputs": [],
   "source": [
    "\n",
    "def generate_data():\n",
    "    num_classes = 2\n",
    "    normal_parameters = [\n",
    "        [10, 5],\n",
    "        [25, 3]\n",
    "    ]\n",
    "    multinomial_parameters = [15.5, 16]\n",
    "    p2 = np.exp(multinomial_parameters)\n",
    "    p2 = [i/sum(p2) for i in p2]\n",
    "    \n",
    "    num_data = 1000\n",
    "    values = []\n",
    "    labels = []\n",
    "    for i in range(num_data):\n",
    "        label = np.random.multinomial(1, p2)\n",
    "        label = np.where(label==1)[0][0]\n",
    "        mu, sigma = normal_parameters[label]\n",
    "        value = np.random.normal(mu, sigma)\n",
    "        values.append(value)\n",
    "        labels.append(label)\n",
    "    return values, labels\n",
    "\n",
    "values, labels = generate_data()\n",
    "data = zip(labels, values)"
   ]
  },
  {
   "cell_type": "code",
   "execution_count": 10,
   "metadata": {
    "collapsed": false,
    "scrolled": true
   },
   "outputs": [
    {
     "data": {
      "text/plain": [
       "[<matplotlib.lines.Line2D at 0x7f950a915290>]"
      ]
     },
     "execution_count": 10,
     "metadata": {},
     "output_type": "execute_result"
    },
    {
     "data": {
      "image/png": "[encoded data removed]",
      "text/plain": [
       "<matplotlib.figure.Figure at 0x7f950ac36e10>"
      ]
     },
     "metadata": {},
     "output_type": "display_data"
    }
   ],
   "source": [
    "import matplotlib.pyplot as plt\n",
    "from scipy.stats import norm\n",
    "plt.hist(values,100)\n",
    "x = np.linspace(-20, 50, num=100)\n",
    "y1 = norm.pdf(x, loc=10, scale=5) * 200\n",
    "y3 = norm.pdf(x, loc=25, scale=3) * 300\n",
    "plt.plot(x, y1)\n",
    "plt.plot(x, y3)"
   ]
  },
  {
   "cell_type": "markdown",
   "metadata": {},
   "source": [
    "Assuming that the class labels are hidden, we only have access to `values`. In each iteration, we complete the data using current parameters, compute the likelihood and gradient of completed data, and update the parameters:"
   ]
  },
  {
   "cell_type": "code",
   "execution_count": 14,
   "metadata": {
    "collapsed": false
   },
   "outputs": [],
   "source": [
    "def ll(parameters, data):\n",
    "    \"\"\"Compute the likelihood and its gradients.\n",
    "    \n",
    "    arguments:\n",
    "    parameters -- current value of parameters\n",
    "    data     -- values for all random variables\n",
    "    \"\"\"\n",
    "    p_n, p_m = parameters\n",
    "    num_classes = len(p_m)\n",
    "    likelihood = 0\n",
    "    grad_n = [[0.0] * len(p_n[0])] * num_classes\n",
    "    grad_m = [0.0] * num_classes\n",
    "    for instance in data:\n",
    "        label, value = instance\n",
    "        likelihood += f_normal_log(value)(p_n[label])\n",
    "        fprime_n = fprime_normal_log(value)(p_n[label])\n",
    "        grad_n[label] = [grad_n[label][i] + fprime_n[i] for i in range(num_classes)]\n",
    "        \n",
    "        likelihood += f_multinomial_log(label)(p_m)\n",
    "        fprime_m = fprime_multinomial_log(label)(p_m)\n",
    "        grad_m = [grad_m[i]+fprime_m[i] for i in range(num_classes)]\n",
    "    \n",
    "    gradients = grad_n, grad_m\n",
    "    return likelihood, gradients\n",
    "\n",
    "def get_samples(value, parameters, num_samples):\n",
    "    p_n, p_m = parameters\n",
    "    num_classes = len(p_m)\n",
    "    prior = np.exp(p_m)\n",
    "    prior = [p/sum(prior) for p in prior]\n",
    "    \n",
    "    posterior = [0.0] * num_classes\n",
    "    for i in range(num_classes):\n",
    "        mu, sigma = p_n[i]\n",
    "        posterior[i] = norm.pdf(value, loc=mu, scale=sigma) * prior[i]\n",
    "    posterior = [p/sum(posterior) for p in posterior]\n",
    "\n",
    "    samples = np.random.multinomial(num_samples, posterior)\n",
    "    completed = []\n",
    "    for i in range(num_classes):\n",
    "        for j in range(samples[i]):\n",
    "            completed.append((i, value))\n",
    "    return completed\n",
    "\n",
    "# unnecessary complication\n",
    "def complete_data(values, parameters, num_samples=2):\n",
    "    completed_data = []\n",
    "    for value in values:\n",
    "        completed_data += get_samples(value, parameters, num_samples)\n",
    "    return completed_data\n"
   ]
  },
  {
   "cell_type": "code",
   "execution_count": 26,
   "metadata": {
    "collapsed": false
   },
   "outputs": [],
   "source": [
    "num_classes = 2\n",
    "normal_parameters = [\n",
    "    [15.5, 5],\n",
    "    [15, 5]\n",
    "]\n",
    "multinomial_parameters = [15.7, 15.8]\n",
    "parameters = [normal_parameters, multinomial_parameters]    \n",
    "completed_data = complete_data(values, parameters)"
   ]
  },
  {
   "cell_type": "markdown",
   "metadata": {},
   "source": [
    "Before starting to learn the weights, let us compute the log-likelihood of complete data:"
   ]
  },
  {
   "cell_type": "code",
   "execution_count": 27,
   "metadata": {
    "collapsed": false,
    "scrolled": true
   },
   "outputs": [
    {
     "name": "stdout",
     "output_type": "stream",
     "text": [
      "-3445.81543792\n"
     ]
    }
   ],
   "source": [
    "data = zip(values, labels)\n",
    "normal_parameters = [\n",
    "    [10, 5],\n",
    "    [25, 3]\n",
    "]\n",
    "multinomial_parameters = [15.5, 16]\n",
    "p = np.exp(multinomial_parameters)\n",
    "p = [i/sum(p) for i in p]\n",
    "\n",
    "log_likelihood = 0\n",
    "for value, label in data:\n",
    "    log_likelihood += np.log(p[label])\n",
    "    mu, sigma = normal_parameters[label]\n",
    "    log_likelihood += norm.logpdf(value, loc=mu, scale=sigma)\n",
    "\n",
    "print log_likelihood"
   ]
  },
  {
   "cell_type": "code",
   "execution_count": 28,
   "metadata": {
    "collapsed": false,
    "scrolled": true
   },
   "outputs": [
    {
     "data": {
      "text/plain": [
       "[<matplotlib.lines.Line2D at 0x7f950a12ab50>]"
      ]
     },
     "execution_count": 28,
     "metadata": {},
     "output_type": "execute_result"
    },
    {
     "data": {
      "image/png": "[encoded data removed]",
      "text/plain": [
       "<matplotlib.figure.Figure at 0x7f950a572490>"
      ]
     },
     "metadata": {},
     "output_type": "display_data"
    }
   ],
   "source": [
    "current_params = parameters\n",
    "current_data = complete_data(values, current_params, num_samples=10)\n",
    "ll_series = []\n",
    "for iterations in range(200):\n",
    "    likelihood, gradients = ll(current_params, completed_data)\n",
    "    ll_series.append(likelihood)\n",
    "    g_n, g_m = gradients\n",
    "    nu = 0.1 / len(completed_data)\n",
    "    p_n, p_m = parameters\n",
    "    for i in range(2):\n",
    "        for j in range(2):\n",
    "            p_n[i][j] += nu * g_n[i][j]\n",
    "    for i in range(2):\n",
    "        p_m[i] += nu * g_m[i]\n",
    "    current_params = (p_n, p_m)\n",
    "    current_data = complete_data(values, current_params, num_samples=10)\n",
    "    \n",
    "plt.plot(ll_series)"
   ]
  },
  {
   "cell_type": "code",
   "execution_count": 33,
   "metadata": {
    "collapsed": false
   },
   "outputs": [
    {
     "name": "stdout",
     "output_type": "stream",
     "text": [
      "([[16.55104836045259, 6.829974864553629], [15.709475390466789, 6.905680062219306]], [15.798033405566205, 15.701966594433795])\n"
     ]
    }
   ],
   "source": [
    "print current_params"
   ]
  }
 ],
 "metadata": {
  "kernelspec": {
   "display_name": "Python 2",
   "language": "python",
   "name": "python2"
  },
  "language_info": {
   "codemirror_mode": {
    "name": "ipython",
    "version": 2
   },
   "file_extension": ".py",
   "mimetype": "text/x-python",
   "name": "python",
   "nbconvert_exporter": "python",
   "pygments_lexer": "ipython2",
   "version": "2.7.6"
  }
 },
 "nbformat": 4,
 "nbformat_minor": 0
}
