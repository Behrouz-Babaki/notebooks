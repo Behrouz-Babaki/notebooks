{
 "cells": [
  {
   "cell_type": "markdown",
   "metadata": {},
   "source": [
    "# Goal\n",
    "- implement the gradient-based learning using sampling\n",
    "- implement the EM method\n",
    "- compare the two using synthetic data"
   ]
  },
  {
   "cell_type": "markdown",
   "metadata": {},
   "source": [
    "# Introduction\n",
    "Our goal in this exercise is to learn the parameters of a model from incomplete data. The model is a mixture of Guassians. According to this model, each data point is sampled from one of $C$ Gaussian distributions, according to the class of that data point. The prior probability for class label follows a multinomial distribution:\n",
    "\n",
    "\\begin{equation}\n",
    "P(Z_i = j) = p_j \n",
    "\\end{equation}\n",
    "\n",
    "Given the class of a data point, its value follows a normal distribution with parameters that are specific to that class:\n",
    "\n",
    "\\begin{equation}\n",
    "P(Y_i = y | Z_i = j) = N(y; \\mu_j, \\sigma_j)\n",
    "\\end{equation}"
   ]
  },
  {
   "cell_type": "markdown",
   "metadata": {},
   "source": [
    "## Sampling the latent variables\n",
    "For each data point $Y_i$ we have:\n",
    "\n",
    "\\begin{align*}\n",
    "P(Z_i=j|Y_i=y_i;\\Theta) & \\propto P(Y_i=y_i|Z_i=j;\\Theta)P(Z_i=j;\\Theta)   \\\\\n",
    "                  & = N(y_i;\\mu_j,\\sigma_j) \\cdot p_j\n",
    "\\end{align*}\n",
    "\n",
    "Having the posterior of class label, we can sample the label from this posterior:"
   ]
  },
  {
   "cell_type": "code",
   "execution_count": 2,
   "metadata": {
    "collapsed": false
   },
   "outputs": [],
   "source": [
    "from scipy.stats import norm\n",
    "from numpy.random import multinomial\n",
    "\n",
    "# returns a vector with counts of each class\n",
    "def sample_label(parameters, y, num_samples=1):\n",
    "    multinomial_parameters, normal_parameters = parameters\n",
    "    assert len(multinomial_parameters) == len(normal_parameters)\n",
    "    num_classes = len(multinomial_parameters)\n",
    "    \n",
    "    posterior = [0.0] * num_classes\n",
    "    for i in range(num_classes):\n",
    "        mu, sigma = normal_parameters[i]\n",
    "        p = multinomial_parameters[i]\n",
    "        posterior[i] = norm.pdf(y, loc=mu, scale=sigma) * p\n",
    "    s = sum(posterior)\n",
    "    posterior = [ps/s for ps in posterior]\n",
    "    return multinomial(num_samples, posterior)\n",
    "    "
   ]
  },
  {
   "cell_type": "markdown",
   "metadata": {},
   "source": [
    "\n",
    "Let us test the correctness of gradients of normal distribution. Given $f(x, \\mu, \\sigma) = \\frac{1}{\\sigma\\sqrt{2\\pi}} e^{\\frac{(x-\\mu)^2}{2\\sigma^2}}$, I believe that:\n",
    "\\begin{align}\n",
    "\\frac{\\partial f}{\\partial \\mu} &= f . \\frac{1}{\\sigma} . \\big(\\frac{x-\\mu}{\\sigma}\\big) \\\\\n",
    "\\frac{\\partial f}{\\partial \\sigma} &= f . \\frac{1}{\\sigma} . \\big( (\\frac{x-\\mu}{\\sigma})^2 -1 \\big)\n",
    "\\end{align}"
   ]
  },
  {
   "cell_type": "code",
   "execution_count": 118,
   "metadata": {
    "collapsed": false
   },
   "outputs": [],
   "source": [
    "from scipy.optimize import check_grad\n",
    "from scipy.stats import norm\n",
    "from numpy.random import random_sample, normal\n",
    "\n",
    "def f_normal(x):\n",
    "    def _f(inp):\n",
    "        mu, sigma = inp\n",
    "        return norm.pdf(x, loc=mu, scale=sigma)\n",
    "    return _f\n",
    "\n",
    "def fprime_normal(x):\n",
    "    def _fprime(inp):\n",
    "        f_val = f(x)(inp)\n",
    "        mu, sigma = inp\n",
    "        xms = (x-mu)/sigma\n",
    "        \n",
    "        grad=[0.0]*2\n",
    "        grad[0] = f_val/sigma * xms\n",
    "        grad[1] = f_val/sigma * (xms**2 - 1)\n",
    "        return grad\n",
    "    return _fprime\n",
    "\n",
    "# for i in range(10000):\n",
    "#     mu = 30 * random_sample()\n",
    "#     sigma = 10 * random_sample()\n",
    "#     val = normal(mu, sigma)\n",
    "#     diff =  check_grad(f(val), fprime(val), [mu, sigma])\n",
    "#     if diff > 1e-4:\n",
    "#         print mu, sigma, val, diff"
   ]
  },
  {
   "cell_type": "code",
   "execution_count": 129,
   "metadata": {
    "collapsed": false
   },
   "outputs": [
    {
     "name": "stdout",
     "output_type": "stream",
     "text": [
      "4.25418880664 0.00285773272798 4.25605212501 0.000946297334813\n",
      "26.9849993887 0.00677352842907 26.9887627704 0.000162838865778\n",
      "1.69575405388 0.0244058934429 1.76135512501 0.000258878376052\n",
      "12.7578591462 0.0332553136623 12.8460135123 0.000135462727592\n",
      "28.4685679591 0.0202853643298 28.407044312 0.000481898145941\n",
      "21.1349210129 0.00742789160595 21.1305847481 0.000135073034998\n",
      "11.0491514474 0.00527095149876 11.0525998011 0.000278777309868\n",
      "6.28411926802 0.00311792143788 6.28574663193 0.00077910259721\n",
      "23.5841994442 0.000699097810046 23.582846381 0.156808649006\n"
     ]
    }
   ],
   "source": [
    "from numpy.random import random_sample, normal\n",
    "from scipy.stats import norm\n",
    "\n",
    "def f_normal_log(x):\n",
    "    return lambda y : norm.logpdf(x, loc=y[0], scale=y[1])\n",
    "\n",
    "def fprime_normal_log(x):\n",
    "    def fprime_log_(y):\n",
    "        mu, sigma = y\n",
    "        xms = (x-mu)/sigma\n",
    "        fprime_mu = xms / sigma\n",
    "        fprime_sigma = (xms**2 - 1) / sigma\n",
    "        return (fprime_mu, fprime_sigma)\n",
    "    return fprime_log_\n",
    "\n",
    "for i in range(5000):\n",
    "    mu = 30 * random_sample()\n",
    "    sigma = 10 * random_sample()\n",
    "    val = normal(mu, sigma)\n",
    "    diff =  check_grad(f_normal_log(val), fprime_normal_log(val), [mu, sigma])\n",
    "    if diff > 1e-4:\n",
    "        print mu, sigma, val, diff"
   ]
  },
  {
   "cell_type": "code",
   "execution_count": 198,
   "metadata": {
    "collapsed": true
   },
   "outputs": [],
   "source": [
    "def test_multinomial(f_multinomial_pos, fprime_multinomial_pos, \n",
    "                    num_tests = 1000):\n",
    "    num_classes = np.random.randint(40)\n",
    "    for i in range(num_tests):\n",
    "        params = [normal(loc=0, scale=1) for i in range(num_classes)]\n",
    "        p2 = np.exp(params)\n",
    "        p2 = [i/sum(p2) for i in p2]\n",
    "        val = np.random.multinomial(1, p2)\n",
    "        val = np.where(val==1)[0][0]\n",
    "        diff =  check_grad(f_multinomial_pos(val), fprime_multinomial_pos(val), params)\n",
    "        if diff > 1e-4:\n",
    "            print params, val, diff\n",
    "            print f_multinomial_pos(val)(params) \n",
    "            print fprime_multinomial_pos(val)(params)\n",
    "            print approx_fprime(params, f_multinomial_pos(val), 1.49e-08)\n",
    "            print \n",
    "    print 'test finished'"
   ]
  },
  {
   "cell_type": "code",
   "execution_count": 199,
   "metadata": {
    "collapsed": false
   },
   "outputs": [
    {
     "name": "stdout",
     "output_type": "stream",
     "text": [
      "test finished\n"
     ]
    }
   ],
   "source": [
    "def f_multinomial_pos(label):\n",
    "    return (lambda parameters : np.exp(parameters[label]) / sum(np.exp(parameters)))\n",
    "\n",
    "def f_multinomial_log(label):\n",
    "    return (lambda parameters : parameters[label] - np.log(sum(np.exp(parameters))))\n",
    "\n",
    "def fprime_multinomial_log(label):\n",
    "    def _fprime_multinomial_log(parameters):\n",
    "        fprime = [-f_multinomial_pos(i)(parameters) for i in range(len(parameters))]\n",
    "        fprime[label] += 1\n",
    "        return fprime\n",
    "    return _fprime_multinomial_log\n",
    "    \n",
    "test_multinomial(f_multinomial_log, fprime_multinomial_log)    "
   ]
  },
  {
   "cell_type": "markdown",
   "metadata": {},
   "source": [
    "## Approximating the gradient\n",
    "The log likelihood of data point $i$ can be written as $L(\\Theta) = \\log P(Y_i, Z_i;\\Theta)$. \n",
    "So the gradient of log-likelihood function can be written as:\n",
    "\n",
    "\\begin{equation}\n",
    "\\partial_{\\Theta} L(\\Theta) = \n",
    "\\end{equation}"
   ]
  },
  {
   "cell_type": "markdown",
   "metadata": {},
   "source": [
    "## A very important observation\n",
    "The differences in the values of `multinomial_parameters` leads to exponential differences, and does not let samples from other classes to be generated. "
   ]
  },
  {
   "cell_type": "code",
   "execution_count": 97,
   "metadata": {
    "collapsed": false
   },
   "outputs": [],
   "source": [
    "import numpy as np\n",
    "\n",
    "def generate_data():\n",
    "    num_classes = 2\n",
    "    normal_parameters = [\n",
    "        [10, 5],\n",
    "        [25, 3]\n",
    "    ]\n",
    "    multinomial_parameters = [15.5, 16]\n",
    "    p2 = np.exp(multinomial_parameters)\n",
    "    p2 = [i/sum(p2) for i in p2]\n",
    "    \n",
    "    num_data = 1000\n",
    "    values = []\n",
    "    labels = []\n",
    "    for i in range(num_data):\n",
    "        label = np.random.multinomial(1, p2)\n",
    "        label = np.where(label==1)[0][0]\n",
    "        mu, sigma = normal_parameters[label]\n",
    "        value = np.random.normal(mu, sigma)\n",
    "        values.append(value)\n",
    "        labels.append(label)\n",
    "    return values, labels\n",
    "\n",
    "values, labels = generate_data()\n",
    "data = zip(labels, values)"
   ]
  },
  {
   "cell_type": "code",
   "execution_count": 96,
   "metadata": {
    "collapsed": false,
    "scrolled": true
   },
   "outputs": [
    {
     "data": {
      "text/plain": [
       "[<matplotlib.lines.Line2D at 0x7ff374138610>]"
      ]
     },
     "execution_count": 96,
     "metadata": {},
     "output_type": "execute_result"
    },
    {
     "data": {
      "image/png": "[encoded data removed]",
      "text/plain": [
       "<matplotlib.figure.Figure at 0x7ff3747dc750>"
      ]
     },
     "metadata": {},
     "output_type": "display_data"
    }
   ],
   "source": [
    "import matplotlib.pyplot as plt\n",
    "from scipy.stats import norm\n",
    "plt.hist(values,100)\n",
    "x = np.linspace(-20, 50, num=100)\n",
    "y1 = norm.pdf(x, loc=10, scale=5) * 200\n",
    "y3 = norm.pdf(x, loc=25, scale=3) * 300\n",
    "plt.plot(x, y1)\n",
    "plt.plot(x, y3)"
   ]
  },
  {
   "cell_type": "markdown",
   "metadata": {},
   "source": [
    "Assuming that the class labels are hidden, we only have access to `values`. In each iteration, we complete the data using current parameters, compute the likelihood and gradient of completed data, and update the parameters:"
   ]
  },
  {
   "cell_type": "code",
   "execution_count": 192,
   "metadata": {
    "collapsed": false
   },
   "outputs": [],
   "source": [
    "def ll(parameters, data):\n",
    "    \"\"\"Compute the likelihood and its gradients.\n",
    "    \n",
    "    arguments:\n",
    "    parameters -- current value of parameters\n",
    "    data     -- values for all random variables\n",
    "    \"\"\"\n",
    "    p_n, p_m = parameters\n",
    "    num_classes = len(p_m)\n",
    "    likelihood = 0\n",
    "    grad_n = [[0.0] * len(p_n[0])] * num_classes\n",
    "    grad_m = [0.0] * num_classes\n",
    "    for instance in data:\n",
    "        label, value = instance\n",
    "        likelihood += f_normal_log(value)(p_n[label])\n",
    "        fprime_n = fprime_normal_log(value)(p_n[label])\n",
    "        grad_n[label] = [grad_n[label][i] + fprime_n[i] for i in range(num_classes)]\n",
    "        \n",
    "        likelihood += f_multinomial_log(label)(p_m)\n",
    "        fprime_m = fprime_multinomial_log(label)(p_m)\n",
    "        grad_m = [grad_m[i]+fprime_m[i] for i in range(num_classes)]\n",
    "    \n",
    "    gradients = grad_n, grad_m\n",
    "    return likelihood, gradients\n",
    "\n",
    "\n",
    "# unnecessary complication\n",
    "def complete_data(values, parameters, num_samples=2):\n",
    "    completed_data = []\n",
    "    for value in values:\n",
    "        completed_data += get_samples(value, parameters, num_samples)\n",
    "    return completed_data\n",
    "\n",
    "def get_samples(value, parameters, num_samples):\n",
    "    p_n, p_m = parameters\n",
    "    num_classes = len(p_m)\n",
    "    prior = np.exp(p_m)\n",
    "    prior = [p/sum(prior) for p in prior]\n",
    "    \n",
    "    posterior = [0.0] * num_classes\n",
    "    for i in range(num_classes):\n",
    "        mu, sigma = p_n[i]\n",
    "        posterior[i] = norm.pdf(value, loc=mu, scale=sigma) * prior[i]\n",
    "    posterior = [p/sum(posterior) for p in posterior]\n",
    "\n",
    "    samples = np.random.multinomial(num_samples, posterior)\n",
    "    completed = []\n",
    "    for i in range(num_classes):\n",
    "        for j in range(samples[i]):\n",
    "            completed.append((i, value))\n",
    "    return completed"
   ]
  },
  {
   "cell_type": "code",
   "execution_count": 193,
   "metadata": {
    "collapsed": false
   },
   "outputs": [],
   "source": [
    "num_classes = 2\n",
    "normal_parameters = [\n",
    "    [15.5, 5],\n",
    "    [15, 5]\n",
    "]\n",
    "multinomial_parameters = [15.7, 15.8]\n",
    "parameters = [normal_parameters, multinomial_parameters]    \n",
    "completed_data = complete_data(values, parameters)"
   ]
  },
  {
   "cell_type": "code",
   "execution_count": 210,
   "metadata": {
    "collapsed": false,
    "scrolled": true
   },
   "outputs": [
    {
     "name": "stdout",
     "output_type": "stream",
     "text": [
      "-9521.09675332\n",
      "-9503.76033738\n",
      "-9486.94632741\n",
      "-9470.63053866\n",
      "-9454.79029713\n",
      "-9439.40432155\n",
      "-9424.45261635\n",
      "-9409.91637444\n",
      "-9395.77788873\n",
      "-9382.02047159\n",
      "-9368.62838126\n",
      "-9355.58675464\n",
      "-9342.88154579\n",
      "-9330.49946958\n",
      "-9318.42794992\n",
      "-9306.65507233\n",
      "-9295.16954016\n",
      "-9283.96063438\n",
      "-9273.01817646\n",
      "-9262.33249412\n",
      "-9251.89438968\n",
      "-9241.69511075\n",
      "-9231.72632316\n",
      "-9221.98008576\n",
      "-9212.44882717\n",
      "-9203.12532406\n",
      "-9194.00268105\n",
      "-9185.07431192\n",
      "-9176.33392222\n",
      "-9167.77549295\n",
      "-9159.39326539\n",
      "-9151.18172695\n",
      "-9143.1355979\n",
      "-9135.24981898\n",
      "-9127.51953981\n",
      "-9119.94010804\n",
      "-9112.50705915\n",
      "-9105.2161069\n",
      "-9098.06313436\n",
      "-9091.0441855\n",
      "-9084.15545725\n",
      "-9077.39329208\n",
      "-9070.75417092\n",
      "-9064.23470665\n",
      "-9057.8316378\n",
      "-9051.54182268\n",
      "-9045.36223389\n",
      "-9039.28995303\n",
      "-9033.3221658\n",
      "-9027.45615727\n",
      "-9021.68930754\n",
      "-9016.01908747\n",
      "-9010.44305476\n",
      "-9004.95885023\n",
      "-8999.56419418\n",
      "-8994.25688309\n",
      "-8989.03478637\n",
      "-8983.89584334\n",
      "-8978.83806036\n",
      "-8973.85950804\n",
      "-8968.95831868\n",
      "-8964.13268377\n",
      "-8959.38085162\n",
      "-8954.70112511\n",
      "-8950.09185959\n",
      "-8945.55146079\n",
      "-8941.07838291\n",
      "-8936.67112677\n",
      "-8932.328238\n",
      "-8928.04830541\n",
      "-8923.82995934\n",
      "-8919.67187014\n",
      "-8915.57274668\n",
      "-8911.53133499\n",
      "-8907.54641685\n",
      "-8903.61680858\n",
      "-8899.74135977\n",
      "-8895.91895208\n",
      "-8892.14849817\n",
      "-8888.4289406\n",
      "-8884.75925077\n",
      "-8881.13842798\n",
      "-8877.56549842\n",
      "-8874.03951431\n",
      "-8870.55955303\n",
      "-8867.12471622\n",
      "-8863.73412904\n",
      "-8860.38693938\n",
      "-8857.08231711\n",
      "-8853.81945336\n",
      "-8850.59755986\n",
      "-8847.41586826\n",
      "-8844.27362951\n",
      "-8841.17011324\n",
      "-8838.10460718\n",
      "-8835.07641662\n",
      "-8832.08486382\n",
      "-8829.12928751\n",
      "-8826.20904243\n",
      "-8823.32349876\n"
     ]
    }
   ],
   "source": [
    "def f_multinomial_pos(label):\n",
    "    return (lambda parameters : np.exp(parameters[label]) / sum(np.exp(parameters)))\n",
    "\n",
    "def f_multinomial_log(label):\n",
    "    return (lambda parameters : parameters[label] - np.log(sum(np.exp(parameters))))\n",
    "\n",
    "def fprime_multinomial_log(label):\n",
    "    def _fprime_multinomial_log(parameters):\n",
    "        fprime = [-f_multinomial_pos(i)(parameters) for i in range(len(parameters))]\n",
    "        fprime[label] += 1\n",
    "        return fprime\n",
    "    return _fprime_multinomial_log\n",
    "\n",
    "def ll_test(parameters, data):\n",
    "    \"\"\"Compute the likelihood and its gradients.\n",
    "    \n",
    "    arguments:\n",
    "    parameters -- current value of parameters\n",
    "    data     -- values for all random variables\n",
    "    \"\"\"\n",
    "    p_n, p_m = parameters\n",
    "    num_classes = len(p_m)\n",
    "    likelihood = 0\n",
    "    grad_n = [[0.0] * len(p_n[0])] * num_classes\n",
    "    grad_m = [0.0] * num_classes\n",
    "    for instance in data:\n",
    "        label, value = instance\n",
    "        likelihood += f_normal_log(value)(p_n[label])\n",
    "        fprime_n = fprime_normal_log(value)(p_n[label])\n",
    "        grad_n[label] = [grad_n[label][i] + fprime_n[i] for i in range(num_classes)]\n",
    "        \n",
    "        likelihood += f_multinomial_log(label)(p_m)\n",
    "        fprime_m = fprime_multinomial_log(label)(p_m)\n",
    "        grad_m = [grad_m[i]+fprime_m[i] for i in range(num_classes)]\n",
    "    \n",
    "    gradients = grad_n, grad_m\n",
    "    return likelihood, gradients\n",
    "\n",
    "current_params = parameters\n",
    "for iterations in range(100):\n",
    "    likelihood, gradients = ll_test(current_params, completed_data)\n",
    "    print (likelihood)\n",
    "    g_n, g_m = gradients\n",
    "    nu = 0.1 / len(completed_data)\n",
    "    p_n, p_m = parameters\n",
    "    for i in range(2):\n",
    "        for j in range(2):\n",
    "            p_n[i][j] += nu * g_n[i][j]\n",
    "    for i in range(2):\n",
    "        p_m[i] += nu * g_m[i]\n",
    "    current_params = (p_n, p_m)"
   ]
  },
  {
   "cell_type": "code",
   "execution_count": null,
   "metadata": {
    "collapsed": true
   },
   "outputs": [],
   "source": []
  }
 ],
 "metadata": {
  "kernelspec": {
   "display_name": "Python 2",
   "language": "python",
   "name": "python2"
  },
  "language_info": {
   "codemirror_mode": {
    "name": "ipython",
    "version": 2
   },
   "file_extension": ".py",
   "mimetype": "text/x-python",
   "name": "python",
   "nbconvert_exporter": "python",
   "pygments_lexer": "ipython2",
   "version": "2.7.6"
  }
 },
 "nbformat": 4,
 "nbformat_minor": 0
}
