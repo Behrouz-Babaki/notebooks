{
 "cells": [
  {
   "cell_type": "markdown",
   "metadata": {},
   "source": [
    "Learning the weights of a mixture model using EM algorithm "
   ]
  },
  {
   "cell_type": "code",
   "execution_count": 4,
   "metadata": {
    "collapsed": false
   },
   "outputs": [],
   "source": [
    "# load the data from pickle\n",
    "import pickle\n",
    "data = pickle.load(open('./data.dat', 'rb'))\n",
    "\n",
    "labels = []\n",
    "values = []\n",
    "for label, value in data:\n",
    "    labels.append(label)\n",
    "    values.append(value)"
   ]
  },
  {
   "cell_type": "code",
   "execution_count": 5,
   "metadata": {
    "collapsed": false
   },
   "outputs": [
    {
     "name": "stdout",
     "output_type": "stream",
     "text": [
      "-3389.62720501\n"
     ]
    }
   ],
   "source": [
    "import numpy as np\n",
    "from scipy.stats import norm\n",
    "\n",
    "normal_parameters = [\n",
    "    [10, 5],\n",
    "    [25, 3]\n",
    "]\n",
    "multinomial_parameters = [15.5, 16]\n",
    "original_params = (normal_parameters, multinomial_parameters)\n",
    "# compute the likelihood of fully observed model\n",
    "def compute_ll(data, params):\n",
    "    p_n, p_m = params\n",
    "    p = np.exp(p_m)\n",
    "    p = [i/sum(p) for i in p]\n",
    "    \n",
    "    ll = 0\n",
    "    for label, value in data:\n",
    "        ll += np.log(p[label])\n",
    "        mu, sigma = p_n[label]\n",
    "        ll += norm.logpdf(value, loc=mu, scale=sigma)\n",
    "    return ll\n",
    "\n",
    "print compute_ll(data, original_params)"
   ]
  },
  {
   "cell_type": "code",
   "execution_count": 23,
   "metadata": {
    "collapsed": false,
    "scrolled": true
   },
   "outputs": [
    {
     "name": "stdout",
     "output_type": "stream",
     "text": [
      "[ 0.39687174  0.60312826]\n",
      "[[ 10.33611463]\n",
      " [ 25.16361922]]\n",
      "[[ 31.21640241]\n",
      " [  9.07752611]]\n"
     ]
    }
   ],
   "source": [
    "# apply EM to the data \n",
    "from sklearn import mixture\n",
    "g = mixture.GMM(n_components=2)\n",
    "v = np.array(values).reshape(1000,1)\n",
    "g.fit(v)\n",
    "print g.weights_\n",
    "print g.means_\n",
    "print g.covars_"
   ]
  },
  {
   "cell_type": "code",
   "execution_count": 26,
   "metadata": {
    "collapsed": false
   },
   "outputs": [
    {
     "name": "stdout",
     "output_type": "stream",
     "text": [
      "-3394.26218671\n"
     ]
    }
   ],
   "source": [
    "p = [ 0.39687174,  0.60312826]\n",
    "p_n = [[ 10.33611463, np.sqrt(31.21640241)],\n",
    "       [ 25.16361922, np.sqrt(9.07752611)]]\n",
    "\n",
    "ll = 0\n",
    "for label, value in data:\n",
    "    ll += np.log(p[label])\n",
    "    mu, sigma = p_n[label]\n",
    "    ll += norm.logpdf(value, loc=mu, scale=sigma)\n",
    "print ll"
   ]
  },
  {
   "cell_type": "code",
   "execution_count": 31,
   "metadata": {
    "collapsed": false
   },
   "outputs": [
    {
     "name": "stdout",
     "output_type": "stream",
     "text": [
      "-4474.14178368\n"
     ]
    }
   ],
   "source": [
    "p_n = [[16.55104836045259, 6.829974864553629], [15.709475390466789, 6.905680062219306]]\n",
    "p = [15.798033405566205, 15.701966594433795]\n",
    "p = np.exp(p)\n",
    "p = [i/sum(p) for i in p]\n",
    "\n",
    "ll = 0\n",
    "for label, value in data:\n",
    "    ll += np.log(p[label])\n",
    "    mu, sigma = p_n[label]\n",
    "    ll += norm.logpdf(value, loc=mu, scale=sigma)\n",
    "print ll"
   ]
  },
  {
   "cell_type": "code",
   "execution_count": 29,
   "metadata": {
    "collapsed": false
   },
   "outputs": [
    {
     "name": "stdout",
     "output_type": "stream",
     "text": [
      "-5028.13011868\n"
     ]
    }
   ],
   "source": [
    "p_n = [\n",
    "    [15.5, 5],\n",
    "    [15, 5]\n",
    "]\n",
    "p = [15.7, 15.8]\n",
    "p = np.exp(p)\n",
    "p = [i/sum(p) for i in p]\n",
    "\n",
    "ll = 0\n",
    "for label, value in data:\n",
    "    ll += np.log(p[label])\n",
    "    mu, sigma = p_n[label]\n",
    "    ll += norm.logpdf(value, loc=mu, scale=sigma)\n",
    "print ll"
   ]
  }
 ],
 "metadata": {
  "kernelspec": {
   "display_name": "Python 2",
   "language": "python",
   "name": "python2"
  },
  "language_info": {
   "codemirror_mode": {
    "name": "ipython",
    "version": 2
   },
   "file_extension": ".py",
   "mimetype": "text/x-python",
   "name": "python",
   "nbconvert_exporter": "python",
   "pygments_lexer": "ipython2",
   "version": "2.7.6"
  }
 },
 "nbformat": 4,
 "nbformat_minor": 0
}
