{
 "cells": [
  {
   "cell_type": "markdown",
   "metadata": {},
   "source": [
    "Create the toy train and test datasets:"
   ]
  },
  {
   "cell_type": "code",
   "execution_count": null,
   "metadata": {
    "collapsed": false
   },
   "outputs": [],
   "source": [
    "train = list()\n",
    "test = list()\n",
    "\n",
    "for (i in 1:30) {\n",
    "    train[[i]] = matrix(rpois(48*7, 10), nrow=7, ncol=48)\n",
    "    test[[i]] = matrix(rpois(48*7, 10), nrow=7, ncol=48)\n",
    "}"
   ]
  },
  {
   "cell_type": "markdown",
   "metadata": {},
   "source": [
    "The function `table_pr` adds labels to a matrix:"
   ]
  },
  {
   "cell_type": "code",
   "execution_count": null,
   "metadata": {
    "collapsed": true
   },
   "outputs": [],
   "source": [
    "table_pr = function(m) {  \n",
    "  rownames(m) <- weekdays(as.Date(4,\"1970-01-01\",tz=\"GMT\")+0:6)\n",
    "  colnames(m) <- colnames(m, do.NULL = FALSE, prefix = \"Period\")\n",
    "  m = as.table(m)\n",
    "  return(m)\n",
    "}"
   ]
  },
  {
   "cell_type": "markdown",
   "metadata": {},
   "source": [
    "`alpha` is specified by user. `weight` is the following vector:\n",
    "\\begin{equation*}\n",
    "\\omega = \\alpha * \\{ 1, (1-\\alpha), \\ldots, (1-\\alpha)^{19} \\}\n",
    "\\end{equation*}"
   ]
  },
  {
   "cell_type": "code",
   "execution_count": null,
   "metadata": {
    "collapsed": false,
    "scrolled": true
   },
   "outputs": [],
   "source": [
    "alpha=0.25 \n",
    "weight= sapply(1:20, function(y) alpha*(1-alpha)^(y-1) )\n",
    "weight"
   ]
  },
  {
   "cell_type": "markdown",
   "metadata": {},
   "source": [
    "The function  `calculwsum` is a modified version of `calculsum` in `Poisson`. It gives more weight to the recent counts than those in the early past:"
   ]
  },
  {
   "cell_type": "code",
   "execution_count": null,
   "metadata": {
    "collapsed": true
   },
   "outputs": [],
   "source": [
    "calculwsum = function(dow,num,weight,l) {\n",
    "    sapply(1:48, function(period) round(\n",
    "            sum(sapply(1:num, function(x)\n",
    "                 l[[x]][dow,period]*weight[num-x+1]))\n",
    "            / sum(weight[1:num]))\n",
    "          )\n",
    "}"
   ]
  },
  {
   "cell_type": "markdown",
   "metadata": {},
   "source": [
    "Since `calculwsum` weights previous observations, it effectively truncates the horizon of historical data. We can ignore part of the data which receives very small weight:"
   ]
  },
  {
   "cell_type": "code",
   "execution_count": null,
   "metadata": {
    "collapsed": true
   },
   "outputs": [],
   "source": [
    "numberweek=max(which(weight> 0.01))\n",
    "list_p2=lapply(1: numberweek, function(x) list_p[[n-numberweek+x]])"
   ]
  }
 ],
 "metadata": {
  "kernelspec": {
   "display_name": "R 3.3.1",
   "language": "R",
   "name": "ir331"
  },
  "language_info": {
   "codemirror_mode": "r",
   "file_extension": ".r",
   "mimetype": "text/x-r-source",
   "name": "R",
   "pygments_lexer": "r",
   "version": "3.3.1"
  }
 },
 "nbformat": 4,
 "nbformat_minor": 0
}
