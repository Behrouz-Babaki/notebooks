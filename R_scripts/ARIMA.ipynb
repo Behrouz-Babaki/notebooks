{
 "cells": [
  {
   "cell_type": "markdown",
   "metadata": {},
   "source": [
    "The script `ARIMA_Model.R` starts with pre-processing the data. There was a problem in the code that I fixed based on a guess. We'll continue assuming that the fix was correct. \n",
    "\n",
    "First we store the data of the last two days of train data in `demand_list_ar`:"
   ]
  },
  {
   "cell_type": "code",
   "execution_count": null,
   "metadata": {
    "collapsed": false
   },
   "outputs": [],
   "source": [
    "n_tr = length(train)\n",
    "n_ts = length(test)\n",
    "demand_list_ar = lapply(1:2, function(i) train[[n_tr-2+i]])"
   ]
  },
  {
   "cell_type": "markdown",
   "metadata": {},
   "source": [
    "Then we change these matrices into a long list of consecutive counts. We also do the same for the test data, and concatenate the two lists together. If we assume that test events have happened right after the train events, `vec_arima` is a log of counts of consecutive events starting from two weeks before the starting date of test events.\n",
    "\n",
    "![](./images/cells_train_test.png)"
   ]
  },
  {
   "cell_type": "code",
   "execution_count": null,
   "metadata": {
    "collapsed": false
   },
   "outputs": [],
   "source": [
    "demand_ar=c(sapply(1:2, function(i) c(t(demand_list_ar[[i]]))))\n",
    "demand_a=c(sapply(1:n_ts, function(x) c(t(test[[i]]))))\n",
    "vec_arima=c(demand_ar,demand_a)"
   ]
  },
  {
   "cell_type": "markdown",
   "metadata": {},
   "source": [
    "The train/test operation is repeated for each day in the test. Two weeks of data before the test date is concatenated to te first period of the test day. Depending on where the test day is located, the previous two weeks can contain data from train, test, or both datasets.\n",
    "\n",
    "![](images/cells_traindata.png)\n",
    "\n",
    "The first two weeks is sent to `calculaModelArima` function to train an ARIMA model. "
   ]
  },
  {
   "cell_type": "code",
   "execution_count": null,
   "metadata": {
    "collapsed": false
   },
   "outputs": [],
   "source": [
    "train_start = 48 * (target_day-1)\n",
    "twoweeks = 48 * 14\n",
    "datatrain = vec_arima[(train_start+1):(train_start+twoweeks)]\n",
    "\n",
    "# send this data to train the ARIMA model\n",
    "o = calculaModelArima(datatrain)"
   ]
  },
  {
   "cell_type": "markdown",
   "metadata": {},
   "source": [
    "Let's assume that order `o` is computed and jump to the prediction step. This is how prediction for one period is performed: \n",
    "- take the series containing 24\\*7 periods before the target\n",
    "- that series together with `o` is fed into function `predict`\n",
    "\n",
    "![](./images/pred_slide.png)\n",
    "\n",
    "This is repeated until all 48 periods in the target day are predicted\n",
    "\n",
    "![](./images/pred_slide_2.png)"
   ]
  },
  {
   "cell_type": "code",
   "execution_count": null,
   "metadata": {
    "collapsed": true
   },
   "outputs": [],
   "source": [
    "pred_oneday = function (x) {\n",
    "    \n",
    "    pred_start = x + 48*(target_day-1)\n",
    "    datapred = vec_arima[pred_start:(pred_start+twoweeks-1)]\n",
    "    \n",
    "    r <- predict(arima(datapred, order=o), n.ahead =1)$pred\n",
    "    return (r)\n",
    "}\n",
    "\n",
    "predictions = sapply(1:48, function(x) pred_oneday(x))"
   ]
  }
 ],
 "metadata": {
  "kernelspec": {
   "display_name": "R 3.3.1",
   "language": "R",
   "name": "ir331"
  },
  "language_info": {
   "codemirror_mode": "r",
   "file_extension": ".r",
   "mimetype": "text/x-r-source",
   "name": "R",
   "pygments_lexer": "r",
   "version": "3.3.1"
  }
 },
 "nbformat": 4,
 "nbformat_minor": 0
}
