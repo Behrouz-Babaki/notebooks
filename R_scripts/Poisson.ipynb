{
 "cells": [
  {
   "cell_type": "markdown",
   "metadata": {},
   "source": [
    "The script assumes that the training/test data consists of a list of tables. Each table corresponds to a week. The rows of table show the days in the week, and the columns are the periods in the day.\n",
    "\n",
    "The paper assumes 30-minute periods, whihch leads to 48 periods per day. Here I create a toy dataset with 2 weeks and 3 periods per day:"
   ]
  },
  {
   "cell_type": "code",
   "execution_count": null,
   "metadata": {
    "collapsed": true
   },
   "outputs": [],
   "source": [
    "d1 = matrix(c(1:(3*7)*3), nrow=7, ncol=3)\n",
    "d2 = matrix(c(1:(3*7)*5), nrow=7, ncol=3)\n",
    "d = list(d1, d2)"
   ]
  },
  {
   "cell_type": "markdown",
   "metadata": {},
   "source": [
    "`table_pr` gives labels to the columns and rows of a table. The rows are named by the days of week (*Monday*, ..., *Sunday*), and the columns are named *Period1*, ... *Periodx*."
   ]
  },
  {
   "cell_type": "code",
   "execution_count": null,
   "metadata": {
    "collapsed": true
   },
   "outputs": [],
   "source": [
    "table_pr = function(m) {  \n",
    "  rownames(m) <- weekdays(as.Date(4,\"1970-01-01\",tz=\"GMT\")+0:6)\n",
    "  colnames(m)<-colnames(m, do.NULL = FALSE, prefix = \"Period\")\n",
    "  m=as.table(m)\n",
    "  return(m)\n",
    "}"
   ]
  },
  {
   "cell_type": "code",
   "execution_count": null,
   "metadata": {
    "collapsed": false,
    "scrolled": false
   },
   "outputs": [],
   "source": [
    "table_pr(d[[1]])"
   ]
  },
  {
   "cell_type": "markdown",
   "metadata": {},
   "source": [
    "The function `calculsum` computes a sum over multiple weeks. It takes the day as argument, and iterates over the periods in the day."
   ]
  },
  {
   "cell_type": "code",
   "execution_count": null,
   "metadata": {
    "collapsed": true
   },
   "outputs": [],
   "source": [
    "calculsum = function(z,n,liste) {                   \n",
    "  # I changed the number of periods from 48 to 3  \n",
    "  sapply(1:3,function(y) sum(sapply(1:n, function(x)liste[[x]][z,y])))\n",
    "}"
   ]
  },
  {
   "cell_type": "markdown",
   "metadata": {},
   "source": [
    "By applying `calculsum` across the days, we will get a single matrix that sums the matrices in training data:"
   ]
  },
  {
   "cell_type": "code",
   "execution_count": null,
   "metadata": {
    "collapsed": false,
    "scrolled": true
   },
   "outputs": [],
   "source": [
    "sum_past = lapply(1:7, function(x) calculsum(x, 2, d))\n",
    "sum_past"
   ]
  },
  {
   "cell_type": "markdown",
   "metadata": {},
   "source": [
    "Do type conversion and put labels using `table_pr`:"
   ]
  },
  {
   "cell_type": "code",
   "execution_count": null,
   "metadata": {
    "collapsed": false,
    "scrolled": true
   },
   "outputs": [],
   "source": [
    "# I changed the number of periods from 48 to 3\n",
    "sum_past <- table_pr(matrix(unlist(sum_past), ncol = 3, byrow = TRUE))\n",
    "sum_past"
   ]
  },
  {
   "cell_type": "markdown",
   "metadata": {},
   "source": [
    "To compute the average, create a matrix populated with number of weeks. The divide the sum matrix by this one:"
   ]
  },
  {
   "cell_type": "code",
   "execution_count": null,
   "metadata": {
    "collapsed": false,
    "scrolled": true
   },
   "outputs": [],
   "source": [
    "# 48 to 3\n",
    "nbr_week=table_pr(matrix(2, ncol = 3, nrow = 7))\n",
    "p_1=round(sum_past/nbr_week)\n",
    "p_1"
   ]
  },
  {
   "cell_type": "markdown",
   "metadata": {},
   "source": [
    "Let's create a toy dataset:"
   ]
  },
  {
   "cell_type": "code",
   "execution_count": null,
   "metadata": {
    "collapsed": false
   },
   "outputs": [],
   "source": [
    "t1 = matrix(round(c(1:(3*7)*1.5)), nrow=7, ncol=3)\n",
    "t2 = matrix(round(c(1:(3*7)*2.5)), nrow=7, ncol=3)\n",
    "t3 = matrix(round(c(1:(3*7)*3.5)), nrow=7, ncol=3)\n",
    "t = list(t1, t2, t3)"
   ]
  },
  {
   "cell_type": "markdown",
   "metadata": {},
   "source": [
    "Now the script does something weird. For each period in test, it replace that period with a period in the train, and recomputes the sum. "
   ]
  },
  {
   "cell_type": "code",
   "execution_count": null,
   "metadata": {
    "collapsed": true
   },
   "outputs": [],
   "source": [
    "# I did rename things a bit\n",
    "n1 = 3\n",
    "sum_past_list=lapply(1:(n1-1),function(x) sum_past-d[[x]]+t[[x]])"
   ]
  },
  {
   "cell_type": "code",
   "execution_count": null,
   "metadata": {
    "collapsed": false,
    "scrolled": true
   },
   "outputs": [],
   "source": [
    "sum_past_list"
   ]
  },
  {
   "cell_type": "markdown",
   "metadata": {},
   "source": [
    "Then the poisson list is computed. It is a modification of the averages that we had already computed, by adding replacing the past week with a week in the sum and recomputing the average."
   ]
  },
  {
   "cell_type": "code",
   "execution_count": null,
   "metadata": {
    "collapsed": true
   },
   "outputs": [],
   "source": [
    "poisson_list=lapply(1:n1,function(x) if(x==1){p_1}else{round(sum_past_list[[x-1]]/nbr_week)})"
   ]
  },
  {
   "cell_type": "code",
   "execution_count": null,
   "metadata": {
    "collapsed": false,
    "scrolled": true
   },
   "outputs": [],
   "source": [
    "poisson_list"
   ]
  },
  {
   "cell_type": "markdown",
   "metadata": {},
   "source": [
    "Finally, the poisson rates themselves are used as predictions:"
   ]
  },
  {
   "cell_type": "code",
   "execution_count": null,
   "metadata": {
    "collapsed": false,
    "scrolled": true
   },
   "outputs": [],
   "source": [
    "pred_p=unlist(lapply(1:n1, function(x) as.vector(t(poisson_list[[x]]))))\n",
    "pred_p"
   ]
  }
 ],
 "metadata": {
  "kernelspec": {
   "display_name": "R 3.3.1",
   "language": "R",
   "name": "ir331"
  },
  "language_info": {
   "codemirror_mode": "r",
   "file_extension": ".r",
   "mimetype": "text/x-r-source",
   "name": "R",
   "pygments_lexer": "r",
   "version": "3.3.1"
  }
 },
 "nbformat": 4,
 "nbformat_minor": 0
}
