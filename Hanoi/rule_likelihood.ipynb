{
 "metadata": {
  "name": "",
  "signature": "sha256:2f11a39cb012ab43aea2b0c96e2120c185db2d026ceaf3abdacd06e0b2c170b0"
 },
 "nbformat": 3,
 "nbformat_minor": 0,
 "worksheets": [
  {
   "cells": [
    {
     "cell_type": "code",
     "collapsed": false,
     "input": [
      "from scipy.optimize import minimize\n",
      "import pickle\n",
      "from trip_rules import *\n",
      "from trip_definitions import *\n",
      "rule_funcs = [rule1, rule2, rule3, rule4, rule5, rule6, rule7, rule8]\n"
     ],
     "language": "python",
     "metadata": {},
     "outputs": [],
     "prompt_number": 68
    },
    {
     "cell_type": "code",
     "collapsed": false,
     "input": [
      "def rule_likelihood(test_data, rule_funcs, core_params):\n",
      "    (values, rains) = test_data\n",
      "    res = 0\n",
      "    num_regions = len(values[0][0])\n",
      "    for d in range(len(rains)):\n",
      "        vals = values[d]\n",
      "        rns = rains[d]\n",
      "        today = PlanningDay(weekday = d%5, periods=None)\n",
      "        for i in range(3):\n",
      "            is_raining = rns[i]\n",
      "            current_period = PlanningPeriod(number=i, rain=is_raining, parameters=None, values=None)\n",
      "            params = get_params(today, current_period, rule_funcs, core_params)\n",
      "            res += sum([np.log(poisson.pmf(vals[i][m,n], params[m,n]))\n",
      "#                         (vals[i][m,n]*np.log(params[m,n])-params[m,n]) \n",
      "                        for m in range(num_regions) \n",
      "                        for n in range(num_regions) if params[m,n] > 0])\n",
      "    return res\n"
     ],
     "language": "python",
     "metadata": {},
     "outputs": [],
     "prompt_number": 74
    },
    {
     "cell_type": "code",
     "collapsed": false,
     "input": [
      "infile = open('/home/behrouz/temp/test_notebooks/simulated_days.pkl')\n",
      "data = pickle.load(infile)\n",
      "\n",
      "values, rains = data\n",
      "num_days = len(values)\n",
      "num_train = num_days * 2/3\n",
      "\n",
      "train_data = (values[:num_train], rains[:num_train])\n",
      "test_data = (values[num_train:], rains[num_train:])\n",
      "\n",
      "def max_loglikelihood(data):\n",
      "    first_guess = [0.001]*8\n",
      "    bounds = [(0, None)]*8 #lambdas should be non-negative\n",
      "    res = minimize(obj_func(data, rule_funcs), first_guess, bounds=bounds, method='L-BFGS-B')\n",
      "#     print ' '.join(['%.5f']*8) % tuple([res.x[i] for i in range(8)])\n",
      "#     print res.fun\n",
      "    return res.x\n",
      "\n",
      "learned_core_params = max_loglikelihood(train_data)\n",
      "test_log_likelihood = rule_likelihood(test_data, rule_funcs, learned_core_params)\n",
      "print test_log_likelihood"
     ],
     "language": "python",
     "metadata": {},
     "outputs": [
      {
       "output_type": "stream",
       "stream": "stdout",
       "text": [
        "-62852.6931474\n"
       ]
      }
     ],
     "prompt_number": 75
    },
    {
     "cell_type": "code",
     "collapsed": false,
     "input": [
      "from scipy.stats import poisson\n",
      "\n",
      "infile = open('/home/behrouz/temp/test_notebooks/simulated_days.pkl')\n",
      "data = pickle.load(infile)\n",
      "\n",
      "values, rains = data\n",
      "num_days = len(values)\n",
      "num_train = num_days * 2/3\n",
      "\n",
      "train_data = (values[:num_train], rains[:num_train])\n",
      "test_data = (values[num_train:], rains[num_train:])\n",
      "\n",
      "def get_plain_params(day, period, learned_params):\n",
      "    return learned_params[period.rain, period.number]\n",
      "\n",
      "def learn_params(train_data):\n",
      "    values, rains = train_data\n",
      "    days = range(len(values))\n",
      "    regions = range(len(values[0][0]))\n",
      "    def list_average(l):\n",
      "        if len(l)==0:\n",
      "            return 0\n",
      "        return sum(l)/float(len(l))\n",
      "    learned_params = ([[[[(list_average([values[day][period][reg1][reg2]\n",
      "                               for day in days\n",
      "                               if rains[day][period] == rain_stat])\n",
      "                              ) \n",
      "                           for reg2 in regions]\n",
      "                           for reg1 in regions]\n",
      "                           for period in range(3)] \n",
      "                           for rain_stat in [False, True]]\n",
      "                          )\n",
      "    return np.array(learned_params)\n",
      "\n",
      "values, rains = data\n",
      "lp = learn_params(train_data)\n",
      "lp2 = learn_params_norain(train_data)\n",
      "\n",
      "def plain_likelihood(data, learned_params, with_rain=True):\n",
      "    (values, rains) = data\n",
      "    res = 0\n",
      "    num_regions = len(values[0][0])\n",
      "    for d in range(len(rains)):\n",
      "        vals = values[d]\n",
      "        rns = rains[d]\n",
      "        today = PlanningDay(weekday = d%7, periods=None)\n",
      "        for i in range(3):\n",
      "            is_raining = rns[i]\n",
      "            current_period = PlanningPeriod(number=i, rain=is_raining, parameters=None, values=None)\n",
      "            if with_rain:\n",
      "                params = learned_params[is_raining, i]\n",
      "            else:\n",
      "                params = learned_params[i]\n",
      "            res += sum([np.log(poisson.pmf(vals[i][m,n], params[m,n]))\n",
      "#                          vals[i][m,n]*np.log(params[m,n])-params[m,n]) \n",
      "                        for m in range(num_regions) \n",
      "                        for n in range(num_regions) if params[m,n] > 0])\n",
      "    return res\n",
      "\n",
      "print plain_likelihood(test_data, lp)\n",
      "print plain_likelihood(test_data, lp2, with_rain=False)\n",
      "orig_core_params = [0.001, 0.001, 0.002, 0.0015, 0.003, 0.025, 0.005, 0.04]\n",
      "print rule_likelihood(test_data, rule_funcs, orig_core_params)"
     ],
     "language": "python",
     "metadata": {},
     "outputs": [
      {
       "output_type": "stream",
       "stream": "stdout",
       "text": [
        "-62844.0990063\n",
        "-65356.2506763"
       ]
      },
      {
       "output_type": "stream",
       "stream": "stdout",
       "text": [
        "\n",
        "-62810.6624259"
       ]
      },
      {
       "output_type": "stream",
       "stream": "stdout",
       "text": [
        "\n"
       ]
      }
     ],
     "prompt_number": 77
    },
    {
     "cell_type": "code",
     "collapsed": false,
     "input": [
      "def learn_params2(train_data):\n",
      "    values, rains = train_data\n",
      "    values = np.array(values)\n",
      "    rains = np.array(rains)\n",
      "    rain_options = [False, True]\n",
      "    params = np.zeros_like([values[0]]*len(rain_options), dtype='float64')\n",
      "    for rain in range(len(rain_options)):\n",
      "        for period in range(3):\n",
      "            vals = values[:,period,:,:][rains[:,period]==rain_options[rain]]\n",
      "            params[rain, period] = np.ma.average(vals, axis = 0)\n",
      "    return params\n",
      "\n",
      "def learn_params_norain(train_data):\n",
      "    values,rains = train_data\n",
      "    values = np.array(values)\n",
      "    params = np.zeros_like(values[0], dtype='float64')\n",
      "    for period in range(3):\n",
      "        vals = values[:,period,:,:]\n",
      "        params[period] = np.ma.average(vals, axis = 0)\n",
      "    return params\n",
      "    \n",
      "\n",
      "# import pickle\n",
      "# import numpy as np\n",
      "# infile = open('/home/behrouz/temp/test_notebooks/simulated_days.pkl')\n",
      "# data = pickle.load(infile)\n",
      "# values, rains = data\n",
      "# train_data = (values, rains)\n",
      "# l2 = learn_params2(train_data)\n",
      "# l1 = learn_params(train_data)\n",
      "# l3 = learn_params_norain(train_data)\n",
      "# print (l1==l2).all()\n",
      "# print l3"
     ],
     "language": "python",
     "metadata": {},
     "outputs": [],
     "prompt_number": 76
    }
   ],
   "metadata": {}
  }
 ]
}