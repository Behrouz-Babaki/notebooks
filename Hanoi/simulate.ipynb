{
 "metadata": {
  "name": ""
 },
 "nbformat": 3,
 "nbformat_minor": 0,
 "worksheets": [
  {
   "cells": [
    {
     "cell_type": "code",
     "collapsed": false,
     "input": [
      "import numpy as np\n",
      "from numpy.random import poisson\n",
      "def generate(w, s, k):\n",
      "    to_b = poisson(w) + poisson(s)\n",
      "    to_c = poisson(s)\n",
      "    to_d = poisson(k) + poisson(w)\n",
      "    to_e = poisson(w)\n",
      "    return [to_b, to_c, to_d, to_e]"
     ],
     "language": "python",
     "metadata": {},
     "outputs": [],
     "prompt_number": 7
    },
    {
     "cell_type": "code",
     "collapsed": false,
     "input": [
      "generate(80, 10, 30)"
     ],
     "language": "python",
     "metadata": {},
     "outputs": [
      {
       "metadata": {},
       "output_type": "pyout",
       "prompt_number": 8,
       "text": [
        "[83, 12, 119, 83]"
       ]
      }
     ],
     "prompt_number": 8
    },
    {
     "cell_type": "code",
     "collapsed": false,
     "input": [
      "for i in range(5):\n",
      "    print generate(80, 10, 30)"
     ],
     "language": "python",
     "metadata": {},
     "outputs": [
      {
       "output_type": "stream",
       "stream": "stdout",
       "text": [
        "[82, 12, 111, 80]\n",
        "[88, 7, 118, 76]\n",
        "[97, 9, 96, 73]\n",
        "[81, 16, 114, 76]\n",
        "[93, 11, 112, 75]\n"
       ]
      }
     ],
     "prompt_number": 17
    },
    {
     "cell_type": "code",
     "collapsed": false,
     "input": [
      "data = []\n",
      "for i in range(15):\n",
      "    data.append(generate(80, 10, 30))"
     ],
     "language": "python",
     "metadata": {},
     "outputs": [],
     "prompt_number": 18
    },
    {
     "cell_type": "code",
     "collapsed": false,
     "input": [
      "for  i in range(4):\n",
      "    for j in range(7):\n",
      "        print data[j][i],\n",
      "        print '|',\n",
      "    print\n",
      "    "
     ],
     "language": "python",
     "metadata": {},
     "outputs": [
      {
       "output_type": "stream",
       "stream": "stdout",
       "text": [
        "87 | 78 | 76 | 74 | 107 | 75 | 97 |\n",
        "13 | 11 | 11 | 13 | 8 | 17 | 10 |\n",
        "126 | 118 | 117 | 125 | 127 | 108 | 120 |\n",
        "74 | 79 | 68 | 78 | 75 | 80 | 68 |\n"
       ]
      }
     ],
     "prompt_number": 24
    },
    {
     "cell_type": "code",
     "collapsed": false,
     "input": [
      "for  i in range(4):\n",
      "    sum = 0\n",
      "    for j in range(7):\n",
      "        sum += data[j][i]\n",
      "    print sum\n",
      "    "
     ],
     "language": "python",
     "metadata": {},
     "outputs": [
      {
       "output_type": "stream",
       "stream": "stdout",
       "text": [
        "594\n",
        "83\n",
        "841\n",
        "522\n"
       ]
      }
     ],
     "prompt_number": 26
    },
    {
     "cell_type": "code",
     "collapsed": false,
     "input": [
      "data = []\n",
      "sums = []\n",
      "for i in range(100):\n",
      "    data.append(generate(80, 10, 30))\n",
      "for  i in range(4):\n",
      "    sum = 0\n",
      "    for j in range(100):\n",
      "        sum += data[j][i]\n",
      "    sums.append(sum)\n",
      "print sums\n"
     ],
     "language": "python",
     "metadata": {},
     "outputs": [
      {
       "output_type": "stream",
       "stream": "stdout",
       "text": [
        "[8979, 992, 11185, 7926]\n"
       ]
      }
     ],
     "prompt_number": 30
    },
    {
     "cell_type": "code",
     "collapsed": false,
     "input": [
      "import numpy as np\n",
      "from numpy.random import poisson\n",
      "def generate2(w, s, k):\n",
      "    to_b = poisson(w) + poisson(s)\n",
      "    to_c = poisson(k)\n",
      "    to_d = poisson(s) + poisson(w)\n",
      "    to_e = poisson(k)\n",
      "    return [to_b, to_c, to_d, to_e]"
     ],
     "language": "python",
     "metadata": {},
     "outputs": [],
     "prompt_number": 32
    },
    {
     "cell_type": "code",
     "collapsed": false,
     "input": [
      "data = []\n",
      "sums = []\n",
      "for i in range(100):\n",
      "    data.append(generate2(80, 10, 30))\n",
      "for  i in range(4):\n",
      "    sum = 0\n",
      "    for j in range(100):\n",
      "        sum += data[j][i]\n",
      "    sums.append(sum)\n",
      "print sums"
     ],
     "language": "python",
     "metadata": {},
     "outputs": [
      {
       "output_type": "stream",
       "stream": "stdout",
       "text": [
        "[8929, 2904, 9031, 2973]\n"
       ]
      }
     ],
     "prompt_number": 33
    },
    {
     "cell_type": "code",
     "collapsed": false,
     "input": [],
     "language": "python",
     "metadata": {},
     "outputs": []
    }
   ],
   "metadata": {}
  }
 ]
}