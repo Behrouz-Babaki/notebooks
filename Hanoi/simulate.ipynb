{
 "metadata": {
  "name": ""
 },
 "nbformat": 3,
 "nbformat_minor": 0,
 "worksheets": [
  {
   "cells": [
    {
     "cell_type": "code",
     "collapsed": false,
     "input": [
      "import numpy as np\n",
      "from numpy.random import poisson\n",
      "def generate(w, s, k):\n",
      "    to_b = poisson(w) + poisson(s)\n",
      "    to_c = poisson(s)\n",
      "    to_d = poisson(k) + poisson(w)\n",
      "    to_e = poisson(w)\n",
      "    return [to_b, to_c, to_d, to_e]"
     ],
     "language": "python",
     "metadata": {},
     "outputs": [],
     "prompt_number": 7
    },
    {
     "cell_type": "code",
     "collapsed": false,
     "input": [
      "generate(80, 10, 30)"
     ],
     "language": "python",
     "metadata": {},
     "outputs": [
      {
       "metadata": {},
       "output_type": "pyout",
       "prompt_number": 8,
       "text": [
        "[83, 12, 119, 83]"
       ]
      }
     ],
     "prompt_number": 8
    },
    {
     "cell_type": "code",
     "collapsed": false,
     "input": [
      "for i in range(5):\n",
      "    print generate(80, 10, 30)"
     ],
     "language": "python",
     "metadata": {},
     "outputs": [
      {
       "output_type": "stream",
       "stream": "stdout",
       "text": [
        "[82, 12, 111, 80]\n",
        "[88, 7, 118, 76]\n",
        "[97, 9, 96, 73]\n",
        "[81, 16, 114, 76]\n",
        "[93, 11, 112, 75]\n"
       ]
      }
     ],
     "prompt_number": 17
    },
    {
     "cell_type": "code",
     "collapsed": false,
     "input": [
      "data = []\n",
      "for i in range(15):\n",
      "    data.append(generate(80, 10, 30))"
     ],
     "language": "python",
     "metadata": {},
     "outputs": [],
     "prompt_number": 18
    },
    {
     "cell_type": "code",
     "collapsed": false,
     "input": [
      "for  i in range(4):\n",
      "    for j in range(7):\n",
      "        print data[j][i],\n",
      "        print '|',\n",
      "    print\n",
      "    "
     ],
     "language": "python",
     "metadata": {},
     "outputs": [
      {
       "output_type": "stream",
       "stream": "stdout",
       "text": [
        "87 | 78 | 76 | 74 | 107 | 75 | 97 |\n",
        "13 | 11 | 11 | 13 | 8 | 17 | 10 |\n",
        "126 | 118 | 117 | 125 | 127 | 108 | 120 |\n",
        "74 | 79 | 68 | 78 | 75 | 80 | 68 |\n"
       ]
      }
     ],
     "prompt_number": 24
    },
    {
     "cell_type": "code",
     "collapsed": false,
     "input": [
      "for  i in range(4):\n",
      "    sum = 0\n",
      "    for j in range(7):\n",
      "        sum += data[j][i]\n",
      "    print sum\n",
      "    "
     ],
     "language": "python",
     "metadata": {},
     "outputs": [
      {
       "output_type": "stream",
       "stream": "stdout",
       "text": [
        "594\n",
        "83\n",
        "841\n",
        "522\n"
       ]
      }
     ],
     "prompt_number": 26
    },
    {
     "cell_type": "code",
     "collapsed": false,
     "input": [
      "data = []\n",
      "sums = []\n",
      "for i in range(100):\n",
      "    data.append(generate(80, 10, 30))\n",
      "for  i in range(4):\n",
      "    sum = 0\n",
      "    for j in range(100):\n",
      "        sum += data[j][i]\n",
      "    sums.append(sum)\n",
      "print sums\n"
     ],
     "language": "python",
     "metadata": {},
     "outputs": [
      {
       "output_type": "stream",
       "stream": "stdout",
       "text": [
        "[8979, 992, 11185, 7926]\n"
       ]
      }
     ],
     "prompt_number": 30
    },
    {
     "cell_type": "code",
     "collapsed": false,
     "input": [
      "import numpy as np\n",
      "from numpy.random import poisson\n",
      "def generate2(w, s, k):\n",
      "    to_b = poisson(w) + poisson(s)\n",
      "    to_c = poisson(k)\n",
      "    to_d = poisson(s) + poisson(w)\n",
      "    to_e = poisson(k)\n",
      "    return [to_b, to_c, to_d, to_e]"
     ],
     "language": "python",
     "metadata": {},
     "outputs": [],
     "prompt_number": 32
    },
    {
     "cell_type": "code",
     "collapsed": false,
     "input": [
      "data = []\n",
      "sums = []\n",
      "for i in range(100):\n",
      "    data.append(generate2(80, 10, 30))\n",
      "for  i in range(4):\n",
      "    sum = 0\n",
      "    for j in range(100):\n",
      "        sum += data[j][i]\n",
      "    sums.append(sum)\n",
      "print sums"
     ],
     "language": "python",
     "metadata": {},
     "outputs": [
      {
       "output_type": "stream",
       "stream": "stdout",
       "text": [
        "[8929, 2904, 9031, 2973]\n"
       ]
      }
     ],
     "prompt_number": 33
    },
    {
     "cell_type": "markdown",
     "metadata": {},
     "source": [
      "Simulating the trips in taxiland\n",
      "================================\n",
      "\n",
      "Taxiland is consisted of five areas: \n",
      "\n",
      "+ downtown, \n",
      "+ beach, \n",
      "+ cultural area, \n",
      "+ res1, \n",
      "+ res2.\n",
      "\n",
      "The pairwise distances between areas are as follows:"
     ]
    },
    {
     "cell_type": "code",
     "collapsed": false,
     "input": [
      "names = ['downtown', 'beach', 'cultural', 'res1', 'res2']\n",
      "coordinates = [[374, 787],\n",
      "               [489, 497],\n",
      "               [260, 440],\n",
      "               [197, 800],\n",
      "               [440,685]]\n",
      "def dist(a,b):\n",
      "    d = 0\n",
      "    for i in range(len(a)):\n",
      "        d += (a[i]-b[i])**2\n",
      "    return sqrt(d)\n",
      "\n",
      "distances = [[dist(i,j) for j in coordinates] for i in coordinates]\n",
      "\n",
      "def distance_factor(reg1, reg2):\n",
      "    coord1 = coordinates[names.index(reg1)]\n",
      "    coord2 = coordinates[names.index(reg2)]\n",
      "    return 1/dist(coord1, coord2)\n",
      "\n",
      "import numpy as np\n",
      "print np.array(distances)\n",
      "print distance_factor('downtown', 'beach')"
     ],
     "language": "python",
     "metadata": {},
     "outputs": [
      {
       "output_type": "stream",
       "stream": "stdout",
       "text": [
        "[[   0.          311.9695498   365.24649211  177.47675904  121.49074039]\n",
        " [ 311.9695498     0.          235.98728779  420.80042776  194.28072473]\n",
        " [ 365.24649211  235.98728779    0.          365.47092908  304.01480227]\n",
        " [ 177.47675904  420.80042776  365.47092908    0.          268.83824133]\n",
        " [ 121.49074039  194.28072473  304.01480227  268.83824133    0.        ]]\n",
        "0.00320544104594\n"
       ]
      }
     ],
     "prompt_number": 18
    },
    {
     "cell_type": "markdown",
     "metadata": {},
     "source": [
      "The population of areas (in terms of residents) is as follows:"
     ]
    },
    {
     "cell_type": "code",
     "collapsed": false,
     "input": [
      "populations = [10, 4, 20, 50, 70] * 1000"
     ],
     "language": "python",
     "metadata": {},
     "outputs": [],
     "prompt_number": 7
    },
    {
     "cell_type": "markdown",
     "metadata": {},
     "source": [
      "Rules governing the distribution of trips in taxiland\n",
      "=====================================================\n",
      "\n",
      "* Each period has a 10 percent chance of rain. In 7 consecutive days, 2 days are non-working days.\n",
      "* The temperature in each period follows a normal distribution. \n",
      "* 'downtown' is a shopping area with a shopping density of 10\n",
      "* 'cultural' is a shopping area with a shopping density of 4"
     ]
    },
    {
     "cell_type": "code",
     "collapsed": false,
     "input": [
      "shopping_factor = [10, 0, 4, 0, 0]\n",
      "shopping_rain_factor = 0.5"
     ],
     "language": "python",
     "metadata": {},
     "outputs": []
    },
    {
     "cell_type": "markdown",
     "metadata": {},
     "source": [
      "* non-retail jobs are in 'downtown' and 'cultural' with densities 7 and 5\n",
      "* retail jobs are in 'downtown', 'beach', and 'cultural' with densities 10, 5, 5\n",
      "\n",
      "We will not consider trips for retail jobs in the simplified setting."
     ]
    },
    {
     "cell_type": "code",
     "collapsed": false,
     "input": [
      "non_retail_densities = [7, 0, 5, 0, 0]\n",
      "retail_densities = [10, 5, 5]\n",
      "retail_rain_factor = 2"
     ],
     "language": "python",
     "metadata": {},
     "outputs": [],
     "prompt_number": 8
    },
    {
     "cell_type": "markdown",
     "metadata": {},
     "source": [
      "'beach' and 'cultural' are both recreational regions. Their attraction varies according to temperature and day-of-week. \n",
      "The degrees of attraction also depend on whether the day is of type 'working' or 'non-working'."
     ]
    },
    {
     "cell_type": "code",
     "collapsed": false,
     "input": [
      "base_attraction = {'beach':{'working':[1,5,3],'non_working': [3, 10, 10]},\n",
      "                   'cultural': {'working':[2, 5, 3], 'non_working': [3, 10, 5]}}\n",
      "\n",
      "# attraction of 'cultural' does not depend on temperature\n",
      "attraction_temp_factor = { 'beach': {'cold':1, 'warm':5, 'hot':20}}\n",
      "attraction_rain_factor = {'beach': 0.05, 'cultural':0.9}\n",
      "                          "
     ],
     "language": "python",
     "metadata": {},
     "outputs": [],
     "prompt_number": 12
    }
   ],
   "metadata": {}
  }
 ]
}