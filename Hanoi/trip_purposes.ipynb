{
 "metadata": {
  "name": "",
  "signature": "sha256:ea097765ed4ad2165a320ca1b2fadd997db792fc124866703530efc128113036"
 },
 "nbformat": 3,
 "nbformat_minor": 0,
 "worksheets": [
  {
   "cells": [
    {
     "cell_type": "markdown",
     "metadata": {},
     "source": [
      "These are all the purposes that we found for the trips:\n",
      "First, during the week:\n",
      "\n",
      "* going from home to work in the morning\n",
      "* coming back from work to home in the evening\n",
      "* going from work to a service area get a service in the early evening. \n",
      "    (by service, I mean shopping and also going to the doctor, etc)\n",
      "* going from home to a service area during the work hours, and in the early evening. \n",
      "* from one business area to another for work purposes during work hours.\n",
      "* from home to recreational areas in daylight hours.\n",
      "* from recreational areas to home in daylight hours. \n",
      "* from work to a 'fun' area, after working hours. \n",
      "* from home to a 'fun' area, in the late evening. \n",
      "* from a service area to another one, to get multiple services in working hours, and evening. \n",
      "* from a fun area to another one in late evening\n",
      "* back from fun areas to home in the late evening\n",
      "* back to home from fun areas in the early morning (or may be the previous with a slope?)\n",
      "\n",
      "And in the weekend:\n",
      "\n",
      "* from home to fun areas from noon to late evening. \n",
      "* from home to service areas from noon to early evening. \n",
      "* from home to recreational areas during daylight hours\n",
      "* from recreational areas to home in daylight hours\n",
      "* within service areas from noon to early evening\n",
      "* within fun areas from afternoon to late evening\n",
      "* from service areas to home in the late evening\n",
      "* from fun areas to home in the late evening\n"
     ]
    },
    {
     "cell_type": "markdown",
     "metadata": {},
     "source": [
      "Shiva suggested the following trips:\n",
      "\n",
      "+ shipping packages by taxi's\n",
      "    (between businesses during working hours, between individuals through the day)\n",
      "+ taking care of formal stuff\n",
      "    (they are important as they have to be done before noon)\n",
      "+ going to/from hospitals\n",
      "+ When there is a fare or a festival, there will be huge requests during those hours\n",
      "    (time and destination depend on the type of event: business fares are visited from work sources in working hours, others are visited from home in the afternoon)\n",
      "+ From hotel to airport/station and the opposite direction\n",
      "+ From hotel to city attractions\n",
      "    (time depends on destination: natural attractions during daylight time, others in working hours of that attraction)"
     ]
    },
    {
     "cell_type": "code",
     "collapsed": false,
     "input": [],
     "language": "python",
     "metadata": {},
     "outputs": []
    }
   ],
   "metadata": {}
  }
 ]
}