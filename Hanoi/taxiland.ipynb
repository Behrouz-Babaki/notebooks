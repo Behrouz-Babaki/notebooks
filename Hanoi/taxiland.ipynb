{
 "metadata": {
  "name": "",
  "signature": "sha256:d6963b1e349da1e7823e4b5a18ec64ac25e2db5bb4088a52c3cdc8db8142dc3c"
 },
 "nbformat": 3,
 "nbformat_minor": 0,
 "worksheets": [
  {
   "cells": [
    {
     "cell_type": "code",
     "collapsed": false,
     "input": [
      "def rain_factor(period):\n",
      "    if period.rain:\n",
      "        return 1.2\n",
      "    return 1"
     ],
     "language": "python",
     "metadata": {},
     "outputs": [],
     "prompt_number": 1
    },
    {
     "cell_type": "markdown",
     "metadata": {},
     "source": [
      "The first rule is about the *home-to-work* trips:\n",
      "```\n",
      "    request1(From, To, Time) ~ poisson(Param) :-\n",
      "        working_day(Time),\n",
      "        morning(Time),\n",
      "        home(From, D1),\n",
      "        job(To, D2),\n",
      "        rain_f(Time, F),\n",
      "        Param is 0.001*D1*D2*F.\n",
      "```"
     ]
    },
    {
     "cell_type": "code",
     "collapsed": false,
     "input": [
      "c_param1 = 0.001\n",
      "\n",
      "def rule1(reg1, reg2, day, period, core_param):\n",
      "    if(period.number != 0 or \n",
      "        reg1.name == reg2.name or \n",
      "        day.weekday > 4):\n",
      "        return 0\n",
      "    return core_param * reg1.population * reg2.job_density * rain_factor(period)"
     ],
     "language": "python",
     "metadata": {},
     "outputs": [],
     "prompt_number": 2
    },
    {
     "cell_type": "markdown",
     "metadata": {},
     "source": [
      "There is also a *work-to-home* direction:\n",
      "```\n",
      "    request2(From, To, Time) ~ poisson(Param) :-\n",
      "        working_day(Time),\n",
      "        afternoon(Time),\n",
      "        job(From, D1),\n",
      "        home(To, D2),\n",
      "        rain_f(Time, F),\n",
      "        Param is 0.001*D1*D2*F.\n",
      "```"
     ]
    },
    {
     "cell_type": "code",
     "collapsed": false,
     "input": [
      "c_param2 = 0.001\n",
      "\n",
      "def rule2(reg1, reg2, day, period, core_param):\n",
      "    if(period.number != 1 or\n",
      "       reg1.name == reg2.name or\n",
      "       day.weekday >4):\n",
      "        return 0\n",
      "    return core_param * reg1.job_density * reg2.population * rain_factor(period)"
     ],
     "language": "python",
     "metadata": {},
     "outputs": [],
     "prompt_number": 3
    },
    {
     "cell_type": "markdown",
     "metadata": {},
     "source": [
      "Some people go from home to service areas in the morning:\n",
      "```\n",
      "    request3(From, To, Time) ~ poisson(Param) :-\n",
      "        working_day(Time),\n",
      "        morning(Time),\n",
      "        home(From, D1),\n",
      "        service(To, D2),\n",
      "        rain_f(Time, F),\n",
      "        dist_factor(From, To, D3),\n",
      "        Param is 0.002*D1*D2*D3*F.\n",
      "```"
     ]
    },
    {
     "cell_type": "code",
     "collapsed": false,
     "input": [
      "c_param3 = 0.002\n",
      "\n",
      "def rule3(reg1, reg2, day, period, core_param):\n",
      "    if (period.number != 0 or\n",
      "        reg1.name == reg2.name or\n",
      "        day.weekday > 4):\n",
      "        return 0\n",
      "    return core_param * reg1.population * reg2.service_density * dist_factor(reg1, reg2) * rain_factor(period)"
     ],
     "language": "python",
     "metadata": {},
     "outputs": [],
     "prompt_number": 4
    },
    {
     "cell_type": "markdown",
     "metadata": {},
     "source": [
      "Some people go back from service areas to home in the afternoon:\n",
      "```\n",
      "    request4(From, To, Time) ~ poisson(Param) :-\n",
      "        working_day(Time),\n",
      "        afternoon(Time),\n",
      "        service(From, D1),\n",
      "        home(To, D2),\n",
      "        rain_f(Time, F),\n",
      "        dist_factor(From, To, D3),\n",
      "        Param is 0.0015*D1*D2*D3*F.\n",
      "```"
     ]
    },
    {
     "cell_type": "code",
     "collapsed": false,
     "input": [
      "c_param4 = 0.0015\n",
      "\n",
      "def rule4(reg1, reg2, day, period, core_param):\n",
      "    if(period.number != 1  or\n",
      "       reg1.name == reg2.name or\n",
      "       day.weekday > 4):\n",
      "        return 0\n",
      "    return core_param * reg1.service_density * reg2.population * dist_factor(reg1, reg2) * rain_factor(period)"
     ],
     "language": "python",
     "metadata": {},
     "outputs": [],
     "prompt_number": 5
    },
    {
     "cell_type": "markdown",
     "metadata": {},
     "source": [
      "Some of the trips are from home to service areas, but in the afternoon:\n",
      "```\n",
      "    request5(From, To, Time) ~ poisson(Param) :-\n",
      "        working_day(Time),\n",
      "        afternoon(Time),\n",
      "        home(From, D1),\n",
      "        service(To, D2),\n",
      "        rain_f(Time, F),\n",
      "        dist_factor(From, To, D3),\n",
      "        Param is 0.003*D1*D2*D3*F.\n",
      "```"
     ]
    },
    {
     "cell_type": "code",
     "collapsed": false,
     "input": [
      "c_param5 = 0.003\n",
      "\n",
      "def rule5(reg1, reg2, day, period, core_param):\n",
      "    if(period.number != 1 or\n",
      "       reg1.name == reg2.name or\n",
      "       day.weekday > 4):\n",
      "        return 0\n",
      "    return core_param * reg1.population * reg2.service_density * dist_factor(reg1, reg2) * rain_factor(period)"
     ],
     "language": "python",
     "metadata": {},
     "outputs": [],
     "prompt_number": 6
    },
    {
     "cell_type": "markdown",
     "metadata": {},
     "source": [
      "Trips in the pposite direction are taken in the evening:\n",
      "```\n",
      "    request6(From, To, Time) ~ poisson(Param) :-\n",
      "        working_day(From),\n",
      "        evening(Time),\n",
      "        service(From, D1),\n",
      "        home(To, D2),\n",
      "        rain_f(Time, F),\n",
      "        dist_factor(From, To, D3),\n",
      "        Praram is 0.025*D1*D2*D3*F.\n",
      "```"
     ]
    },
    {
     "cell_type": "code",
     "collapsed": false,
     "input": [
      "c_param6 = 0.025\n",
      "\n",
      "def rule6(reg1, reg2, day, period, core_param):\n",
      "    if(period.number != 2 or\n",
      "       reg1.name == reg2.name or\n",
      "       day.weekday > 4):\n",
      "        return 0\n",
      "    return core_param * reg1.service_density * reg2.population * dist_factor(reg1, reg2) * rain_factor(period)"
     ],
     "language": "python",
     "metadata": {},
     "outputs": [],
     "prompt_number": 7
    },
    {
     "cell_type": "markdown",
     "metadata": {},
     "source": [
      "Some of the trips  are from home to a fun desntiantion:\n",
      "```\n",
      "    request7(From, To, Time) ~ poisson(Param) :-\n",
      "        working_day(Time),\n",
      "        afternoon(Time),\n",
      "        home(From, D1),\n",
      "        fun(To, D2),\n",
      "        dist_factor(From, To, D3),\n",
      "        rain_f(Time, F),\n",
      "        Param is 0.005*D1*D2*D3*F.\n",
      "```"
     ]
    },
    {
     "cell_type": "code",
     "collapsed": false,
     "input": [
      "c_param7 = 0.005\n",
      "\n",
      "def rule7(reg1, reg2, day, period, core_param):\n",
      "    if(period.number != 1 or\n",
      "       reg1.name == reg2.name or\n",
      "       day.weekday > 4):\n",
      "        return 0\n",
      "    return core_param * reg1.population * reg2.fun_density * dist_factor(reg1, reg2) * rain_factor(period)"
     ],
     "language": "python",
     "metadata": {},
     "outputs": [],
     "prompt_number": 8
    },
    {
     "cell_type": "markdown",
     "metadata": {},
     "source": [
      "There are also other trips in the opposite direction:\n",
      "```\n",
      "    request8(From, To, Time) ~ poisson(Param) :-\n",
      "        working_day(Time),\n",
      "        evening(Time),\n",
      "        fum(From, D1),\n",
      "        home(To, D2),\n",
      "        dist_factor(From, To, D3),\n",
      "        rain_f(Time, F),\n",
      "        Param is 0.04*D1*D2*D3*F.\n",
      "```"
     ]
    },
    {
     "cell_type": "code",
     "collapsed": false,
     "input": [
      "c_param8 = 0.04\n",
      "\n",
      "def rule8(reg1, reg2, day, period, core_param):\n",
      "    if(period.number != 2 or\n",
      "       reg1.name == reg2.name or\n",
      "       day.weekday > 4):\n",
      "        return 0\n",
      "    return core_param * reg1.fun_density * reg2.population * dist_factor(reg1, reg2) * rain_factor(period)"
     ],
     "language": "python",
     "metadata": {},
     "outputs": [],
     "prompt_number": 9
    },
    {
     "cell_type": "code",
     "collapsed": false,
     "input": [
      "from collections import namedtuple\n",
      "import math\n",
      "\n",
      "PlanningDay = namedtuple('Day', ['weekday', 'periods'])\n",
      "PlanningPeriod = namedtuple('Period', ['number','rain', 'parameters','values'])\n",
      "PlanningRegion = namedtuple('Region', ['name', \n",
      "                                       'coordinates', \n",
      "                                       'population', \n",
      "                                       'job_density', \n",
      "                                       'service_density',\n",
      "                                       'fun_density'])\n",
      "\n",
      "names = ['downtown', 'beach', 'cultural', 'res1', 'res2']\n",
      "\n",
      "coordinates = [[374, 787],\n",
      "               [489, 497],\n",
      "               [260, 440],\n",
      "               [197, 800],\n",
      "               [440,685]]\n",
      "populations = [i*1000 for i in [10, 4, 20, 50, 70]]\n",
      "job_densities = [7, 2, 5, 1, 1]\n",
      "service_densities = [3, 2, 5, 1, 1]\n",
      "fun_densities = [2, 6, 4, 1, 1]\n",
      "\n",
      "regions = [PlanningRegion(names[i],\n",
      "                          coordinates[i],\n",
      "                          populations[i],\n",
      "                          job_densities[i],\n",
      "                          service_densities[i],\n",
      "                          fun_densities[i]) for i in range(5)]\n",
      "\n",
      "def dist_factor(reg1, reg2):\n",
      "    dist = 0\n",
      "    for i in range(2):\n",
      "        dist += (reg1.coordinates[i]-reg2.coordinates[i])**2\n",
      "    dist = math.sqrt(dist)\n",
      "    return 1/dist\n",
      "\n"
     ],
     "language": "python",
     "metadata": {},
     "outputs": [],
     "prompt_number": 12
    },
    {
     "cell_type": "code",
     "collapsed": false,
     "input": [
      "import numpy as np\n",
      "import pickle\n",
      "\n",
      "def get_params(day, period, core_params):\n",
      "    rule_funcs = [rule1, rule2, rule3, rule4, rule5, rule6, rule7, rule8]\n",
      "    params = [[sum([rule(reg1, reg2, day, period, core_param) \n",
      "                    for (rule, core_param) in zip(rule_funcs, core_params)]) \n",
      "                  for reg1 in regions]for reg2 in regions]\n",
      "    return np.array(params)\n",
      "\n",
      "core_params = [c_param1, c_param2, c_param3, c_param4, \n",
      "               c_param5, c_param6, c_param7, c_param8]\n",
      "simulated_days = []\n",
      "wd= 0\n",
      "for num_days in range(1000):\n",
      "    wd = (wd+1)%7 \n",
      "    today = PlanningDay(weekday = wd, periods=None)\n",
      "    prds = []\n",
      "    for i in range(3):\n",
      "        is_raining = (np.random.rand() > 0.9)\n",
      "        current_period = PlanningPeriod(number=i, rain=is_raining, parameters=None, values=None)\n",
      "        params = get_params(today, current_period,core_params)\n",
      "        vals = np.random.poisson(lam=params)\n",
      "        current_period = current_period._replace(parameters=params, values=vals)\n",
      "        prds.append(current_period)\n",
      "    today = today._replace(periods=prds)\n",
      "    simulated_days.append(today)\n",
      "\n",
      "    \n",
      "out_values = [[period.values for period in day.periods] for day in simulated_days]\n",
      "out_rain = [[period.rain for period in day.periods] for day in simulated_days]\n",
      "out = (out_values, out_rain)\n",
      "outfile = open('/home/behrouz/temp/test_notebooks/simulated_days.pkl', 'w')\n",
      "pickle.dump(out, outfile)\n",
      "outfile.close()"
     ],
     "language": "python",
     "metadata": {},
     "outputs": [],
     "prompt_number": 13
    },
    {
     "cell_type": "code",
     "collapsed": false,
     "input": [
      "def obj_func(data):\n",
      "    def loglikelihood(core_params):\n",
      "        (values, rains) = data\n",
      "        res = 0\n",
      "        num_regions = len(values[0][0])\n",
      "        for d in range(len(rains)):\n",
      "            vals = values[d]\n",
      "            rns = rains[d]\n",
      "            today = PlanningDay(weekday = d%7, periods=None)\n",
      "            for i in range(3):\n",
      "                is_raining = rns[i]\n",
      "                current_period = PlanningPeriod(number=i, rain=is_raining, parameters=None, values=None)\n",
      "                params = get_params(today, current_period,core_params)\n",
      "                res += sum([(vals[i][m,n]*np.log(params[m,n])-params[m,n]) \n",
      "                            for m in range(num_regions) \n",
      "                            for n in range(num_regions) if params[m,n] > 0])\n",
      "        return -res\n",
      "    return loglikelihood"
     ],
     "language": "python",
     "metadata": {},
     "outputs": [],
     "prompt_number": 14
    },
    {
     "cell_type": "code",
     "collapsed": false,
     "input": [
      "infile = open('/home/behrouz/temp/test_notebooks/simulated_days.pkl')\n",
      "data = pickle.load(infile)\n",
      "\n",
      "from scipy.optimize import minimize\n",
      "def max_loglikelihood(data):\n",
      "    first_guess = [0.001]*8\n",
      "    bounds = [(0, None)]*8 #lambdas should be non-negative\n",
      "    res = minimize(obj_func(data), first_guess, bounds=bounds, method='L-BFGS-B')\n",
      "    print ' '.join(['%.5f']*8) % tuple([res.x[i] for i in range(8)])\n",
      "    print res.fun\n",
      "\n",
      "max_loglikelihood(data)"
     ],
     "language": "python",
     "metadata": {},
     "outputs": [
      {
       "output_type": "stream",
       "stream": "stdout",
       "text": [
        "0.00080 0.00080 0.00084 0.00079 0.00205 0.02013 0.00423 0.03187\n",
        "-11373442.4714\n"
       ]
      }
     ],
     "prompt_number": 19
    },
    {
     "cell_type": "code",
     "collapsed": false,
     "input": [
      "# txt = '0.00080 0.00080 0.00160 0.00120 0.00240 0.01999 0.00400 0.03199'\n",
      "# txt = txt.split()\n",
      "# vals = [float(t) for t in txt]\n",
      "core_params = [c_param1, c_param2, c_param3, c_param4, \n",
      "               c_param5, c_param6, c_param7, c_param8]\n",
      "print core_params\n",
      "print obj_func(data)(core_params)\n",
      "# print vals\n",
      "# print obj_func(data)(vals)"
     ],
     "language": "python",
     "metadata": {},
     "outputs": [
      {
       "output_type": "stream",
       "stream": "stdout",
       "text": [
        "[0.001, 0.001, 0.002, 0.0015, 0.003, 0.025, 0.005, 0.04]\n",
        "-11296163.9803"
       ]
      },
      {
       "output_type": "stream",
       "stream": "stdout",
       "text": [
        "\n"
       ]
      }
     ],
     "prompt_number": 16
    }
   ],
   "metadata": {}
  }
 ]
}