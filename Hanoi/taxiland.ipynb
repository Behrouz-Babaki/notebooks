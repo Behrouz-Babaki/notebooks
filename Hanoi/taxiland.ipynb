{
 "metadata": {
  "name": "",
  "signature": "sha256:6e63c84605f8c079b52e98f8f177e4760b3e073affb36a1dda056ebe5c4a7a65"
 },
 "nbformat": 3,
 "nbformat_minor": 0,
 "worksheets": [
  {
   "cells": [
    {
     "cell_type": "code",
     "collapsed": false,
     "input": [
      "def rule1 (i):\n",
      "    return i+1\n",
      "\n",
      "def rule2 (i):\n",
      "    return i+2\n",
      "\n",
      "funcs = [rule1, rule2]\n",
      "print [sum([func(i) for func in funcs]) for i in range(3)]"
     ],
     "language": "python",
     "metadata": {},
     "outputs": [
      {
       "output_type": "stream",
       "stream": "stdout",
       "text": [
        "[3, 5, 7]\n"
       ]
      }
     ],
     "prompt_number": 4
    },
    {
     "cell_type": "code",
     "collapsed": false,
     "input": [
      "PlanningRegion = namedtuple('Region', ['name', \n",
      "                                       'coordinates', \n",
      "                                       'population', \n",
      "                                       'job_density', \n",
      "                                       'service_density',\n",
      "                                       'fun_density'])\n",
      "\n",
      "names = ['downtown', 'beach', 'cultural', 'res1', 'res2']\n",
      "\n",
      "coordinates = [[374, 787],\n",
      "               [489, 497],\n",
      "               [260, 440],\n",
      "               [197, 800],\n",
      "               [440,685]]\n",
      "populations = [i*1000 for i in [10, 4, 20, 50, 70]]\n",
      "job_densities = [7, 2, 5, 1, 1]\n",
      "service_densities = [3, 2, 5, 1, 1]\n",
      "fun_densities = [2, 6, 4, 1, 1]\n",
      "\n",
      "regions = [PlanningRegion(names[i],\n",
      "                          coordinates[i],\n",
      "                          populations[i],\n",
      "                          job_densities[i],\n",
      "                          service_densities[i],\n",
      "                          fun_densities[i]) for i in range(5)]\n",
      "\n",
      "def dist_factor(reg1, reg2):\n",
      "    dist = 0\n",
      "    for i in range(2):\n",
      "        dist += (reg1.coordinates[i]-reg2.coordinates[i])**2\n",
      "    dist = sqrt(dist)\n",
      "    return 1/dist\n",
      "\n"
     ],
     "language": "python",
     "metadata": {},
     "outputs": [],
     "prompt_number": 35
    },
    {
     "cell_type": "code",
     "collapsed": false,
     "input": [
      "from collections import namedtuple\n",
      "import numpy as np\n",
      "\n",
      "regions = ['r1', 'r2']\n",
      "\n",
      "def rule_1(reg1, reg2, day, period):\n",
      "    return 1\n",
      "def rule_2(reg1, reg2, day, period):\n",
      "    return 2\n",
      "\n",
      "def get_params(day, period):\n",
      "    rule_funcs = [\n",
      "        rule_1, \n",
      "        rule_2]\n",
      "    params = [sum([rule(reg1, reg2, day, period) for rule in rule_funcs]) \n",
      "                  for reg1 in regions for reg2 in regions]\n",
      "    return np.array(params)\n",
      "\n",
      "\n",
      "PlanningDay = namedtuple('Day', ['weekday', 'periods'])\n",
      "PlanningPeriod = namedtuple('Period', ['rain', 'parameters'])\n",
      "\n",
      "today = PlanningDay(weekday = 0, periods=[0]*3)\n",
      "for i in range(3):\n",
      "    is_raining = True\n",
      "    current_period = PlanningPeriod(is_raining, np.zeros([4,4]))\n",
      "    params = get_params(today, current_period)\n",
      "    current_period = current_period._replace(parameters = params)\n",
      "    today.periods[i] = current_period\n",
      "    \n",
      "print today"
     ],
     "language": "python",
     "metadata": {},
     "outputs": [
      {
       "output_type": "stream",
       "stream": "stdout",
       "text": [
        "Day(weekday=0, periods=[Period(rain=True, parameters=array([3, 3, 3, 3])), Period(rain=True, parameters=array([3, 3, 3, 3])), Period(rain=True, parameters=array([3, 3, 3, 3]))])\n"
       ]
      }
     ],
     "prompt_number": 29
    }
   ],
   "metadata": {}
  }
 ]
}