{
 "metadata": {
  "name": "",
  "signature": "sha256:71c4b6fd8819f204532445afecf8392e991f97d7db55c05b0c41b11512ebdd5f"
 },
 "nbformat": 3,
 "nbformat_minor": 0,
 "worksheets": [
  {
   "cells": [
    {
     "cell_type": "code",
     "collapsed": false,
     "input": [
      "def rain_factor(period):\n",
      "    if period.rain:\n",
      "        return 1.2\n",
      "    return 1"
     ],
     "language": "python",
     "metadata": {},
     "outputs": [],
     "prompt_number": 1
    },
    {
     "cell_type": "markdown",
     "metadata": {},
     "source": [
      "The first rule is about the *home-to-work* trips:\n",
      "```\n",
      "    request(From, To, Time) ~ poisson(Param) :-\n",
      "        working_day(Time),\n",
      "        home(From, D1),\n",
      "        job(To, D2),\n",
      "        rain_f(Time, F),\n",
      "        Param is 0.001*D1*D2*F.\n",
      "```"
     ]
    },
    {
     "cell_type": "code",
     "collapsed": false,
     "input": [
      "def rule1 (reg1, reg2, day, period):\n",
      "    if reg1.name == reg2.name or day.weekday > 4:\n",
      "        return 0\n",
      "    return 0.001 * reg1.population * reg2.job_density * rain_factor(period)"
     ],
     "language": "python",
     "metadata": {},
     "outputs": [],
     "prompt_number": 3
    },
    {
     "cell_type": "code",
     "collapsed": false,
     "input": [
      "from collections import namedtuple\n",
      "\n",
      "PlanningDay = namedtuple('Day', ['weekday', 'periods'])\n",
      "PlanningPeriod = namedtuple('Period', ['rain', 'parameters','values'])\n",
      "PlanningRegion = namedtuple('Region', ['name', \n",
      "                                       'coordinates', \n",
      "                                       'population', \n",
      "                                       'job_density', \n",
      "                                       'service_density',\n",
      "                                       'fun_density'])\n",
      "\n",
      "names = ['downtown', 'beach', 'cultural', 'res1', 'res2']\n",
      "\n",
      "coordinates = [[374, 787],\n",
      "               [489, 497],\n",
      "               [260, 440],\n",
      "               [197, 800],\n",
      "               [440,685]]\n",
      "populations = [i*1000 for i in [10, 4, 20, 50, 70]]\n",
      "job_densities = [7, 2, 5, 1, 1]\n",
      "service_densities = [3, 2, 5, 1, 1]\n",
      "fun_densities = [2, 6, 4, 1, 1]\n",
      "\n",
      "regions = [PlanningRegion(names[i],\n",
      "                          coordinates[i],\n",
      "                          populations[i],\n",
      "                          job_densities[i],\n",
      "                          service_densities[i],\n",
      "                          fun_densities[i]) for i in range(5)]\n",
      "\n",
      "def dist_factor(reg1, reg2):\n",
      "    dist = 0\n",
      "    for i in range(2):\n",
      "        dist += (reg1.coordinates[i]-reg2.coordinates[i])**2\n",
      "    dist = sqrt(dist)\n",
      "    return 1/dist\n",
      "\n"
     ],
     "language": "python",
     "metadata": {},
     "outputs": [],
     "prompt_number": 4
    },
    {
     "cell_type": "code",
     "collapsed": false,
     "input": [
      "import numpy as np\n",
      "import pickle\n",
      "\n",
      "def get_params(day, period):\n",
      "    rule_funcs = [\n",
      "        rule1]\n",
      "    params = [[sum([rule(reg1, reg2, day, period) for rule in rule_funcs]) \n",
      "                  for reg1 in regions]for reg2 in regions]\n",
      "    return np.array(params)\n",
      "\n",
      "simulated_days = []\n",
      "wd= 0\n",
      "for num_days in range(1000):\n",
      "    wd = (wd+1)%7 \n",
      "    today = PlanningDay(weekday = wd, periods=None)\n",
      "    prds = []\n",
      "    for i in range(3):\n",
      "        is_raining = (np.random.rand() > 0.9)\n",
      "        current_period = PlanningPeriod(rain=is_raining, parameters=None, values=None)\n",
      "        params = get_params(today, current_period)\n",
      "        vals = np.random.poisson(lam=params)\n",
      "        current_period = current_period._replace(parameters=params, values=vals)\n",
      "        prds.append(current_period)\n",
      "    today = today._replace(periods=prds)\n",
      "    simulated_days.append(today)\n",
      "\n",
      "    \n",
      "out_values = [[period.values for period in day.periods] for day in simulated_days]\n",
      "out_rain = [[period.rain for period in day.periods] for day in simulated_days]\n",
      "out = (out_values, out_rain)\n",
      "outfile = open('/home/behrouz/temp/test_notebooks/simulated_days.pkl', 'w')\n",
      "pickle.dump(out, outfile)\n",
      "outfile.close()"
     ],
     "language": "python",
     "metadata": {},
     "outputs": [],
     "prompt_number": 35
    },
    {
     "cell_type": "code",
     "collapsed": false,
     "input": [
      "infile = open('/home/behrouz/temp/test_notebooks/simulated_days.pkl')\n",
      "(values, rain) = pickle.load(infile)\n",
      "print sum(sum(rain))/float(3*len(rain))"
     ],
     "language": "python",
     "metadata": {},
     "outputs": [
      {
       "output_type": "stream",
       "stream": "stdout",
       "text": [
        "0.103\n"
       ]
      }
     ],
     "prompt_number": 43
    }
   ],
   "metadata": {}
  }
 ]
}