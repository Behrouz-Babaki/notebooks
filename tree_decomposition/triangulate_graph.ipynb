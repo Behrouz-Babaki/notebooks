{
 "cells": [
  {
   "cell_type": "code",
   "execution_count": 56,
   "metadata": {
    "collapsed": false
   },
   "outputs": [],
   "source": [
    "g0 = {\n",
    "    0: {1, 2},\n",
    "    1: {0, 3},\n",
    "    2: {0, 3},\n",
    "    3: {1, 2, 4, 5},\n",
    "    4: {3, 5},\n",
    "    5: {3, 4}\n",
    "}"
   ]
  },
  {
   "cell_type": "code",
   "execution_count": 63,
   "metadata": {
    "collapsed": false
   },
   "outputs": [],
   "source": [
    "from copy import deepcopy\n",
    "from itertools import combinations\n",
    "def add_edge(g, x, y):\n",
    "    g[x].add(y)\n",
    "    g[y].add(x)\n",
    "    \n",
    "def triangulate_graph(g):\n",
    "    g1 = deepcopy(g)\n",
    "    g2 = deepcopy(g)\n",
    "    clusters = []\n",
    "    while g2:\n",
    "        #TODO improve performance\n",
    "        num_added = {i: len(list(filter(lambda x: not x[1] in g2[x[0]], \n",
    "                                        combinations(j, 2)))) \n",
    "                 for i,j in g2.items()}\n",
    "        v = min(num_added, key=num_added.get)\n",
    "        cluster = {v} | g2[v]\n",
    "        if not any(map(lambda x : cluster < x, clusters)): clusters.append(cluster)\n",
    "        for x, y in itertools.combinations(g2[v], 2):\n",
    "            add_edge(g1, x, y)\n",
    "            add_edge(g2, x, y)\n",
    "        for u in g2[v]:\n",
    "            g2[u].remove(v)\n",
    "        del g2[v]\n",
    "    return g1, clusters\n",
    "            \n",
    "    "
   ]
  },
  {
   "cell_type": "code",
   "execution_count": 64,
   "metadata": {
    "collapsed": false
   },
   "outputs": [
    {
     "data": {
      "text/plain": [
       "({0: {1, 2},\n",
       "  1: {0, 2, 3},\n",
       "  2: {0, 1, 3},\n",
       "  3: {1, 2, 4, 5},\n",
       "  4: {3, 5},\n",
       "  5: {3, 4}},\n",
       " [{3, 4, 5}, {0, 1, 2}, {1, 2, 3}])"
      ]
     },
     "execution_count": 64,
     "metadata": {},
     "output_type": "execute_result"
    }
   ],
   "source": [
    "triangulate_graph(g0)"
   ]
  }
 ],
 "metadata": {
  "kernelspec": {
   "display_name": "Python 3",
   "language": "python",
   "name": "python3"
  },
  "language_info": {
   "codemirror_mode": {
    "name": "ipython",
    "version": 3
   },
   "file_extension": ".py",
   "mimetype": "text/x-python",
   "name": "python",
   "nbconvert_exporter": "python",
   "pygments_lexer": "ipython3",
   "version": "3.5.2"
  }
 },
 "nbformat": 4,
 "nbformat_minor": 0
}
