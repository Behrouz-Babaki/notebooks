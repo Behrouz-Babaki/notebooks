{
 "cells": [
  {
   "cell_type": "code",
   "execution_count": 46,
   "metadata": {
    "collapsed": false
   },
   "outputs": [],
   "source": [
    "from copy import deepcopy\n",
    "from itertools import combinations\n",
    "from gurobipy import Model, GRB\n",
    "from random import randint\n",
    "import pickle"
   ]
  },
  {
   "cell_type": "code",
   "execution_count": 36,
   "metadata": {
    "collapsed": false
   },
   "outputs": [],
   "source": [
    "g0 = {\n",
    "    0: {1, 2},\n",
    "    1: {0, 3},\n",
    "    2: {0, 3},\n",
    "    3: {1, 2, 4, 5},\n",
    "    4: {3, 5},\n",
    "    5: {3, 4}\n",
    "}\n",
    "\n",
    "w0 = {0:2, 1:3, 2:1, 3:4, 4:5, 5:0}"
   ]
  },
  {
   "cell_type": "code",
   "execution_count": 2,
   "metadata": {
    "collapsed": false
   },
   "outputs": [],
   "source": [
    "\n",
    "def add_edge(g, x, y):\n",
    "    g[x].add(y)\n",
    "    g[y].add(x)\n",
    "    \n",
    "def triangulate_graph(g):\n",
    "    g1 = deepcopy(g)\n",
    "    g2 = deepcopy(g)\n",
    "    clusters = []\n",
    "    while g2:\n",
    "        #TODO improve performance\n",
    "        num_added = {i: len(list(filter(lambda x: not x[1] in g2[x[0]], \n",
    "                                        combinations(j, 2)))) \n",
    "                 for i,j in g2.items()}\n",
    "        v = min(num_added, key=num_added.get)\n",
    "        cluster = {v} | g2[v]\n",
    "        if not any(map(lambda x : cluster < x, clusters)): clusters.append(cluster)\n",
    "        for x, y in combinations(g2[v], 2):\n",
    "            add_edge(g1, x, y)\n",
    "            add_edge(g2, x, y)\n",
    "        for u in g2[v]:\n",
    "            g2[u].remove(v)\n",
    "        del g2[v]\n",
    "    return g1, clusters\n",
    "            \n",
    "    "
   ]
  },
  {
   "cell_type": "code",
   "execution_count": 3,
   "metadata": {
    "collapsed": true
   },
   "outputs": [],
   "source": [
    "def create_jointree(clusters):\n",
    "    n_clusters = len(clusters)\n",
    "    sepsets = {(i,j): len(clusters[i] & clusters[j]) for (i,j) in combinations(range(n_clusters), 2)}\n",
    "    trees = [i for i in range(n_clusters)]\n",
    "    jointree = []\n",
    "    while len(jointree) < n_clusters - 1:\n",
    "        x, y = max(sepsets, key=sepsets.get)\n",
    "        if trees[x] == trees[y]: continue\n",
    "        trees = [z if z!=y else x for z in trees]\n",
    "        jointree.append((x, y))\n",
    "        del sepsets[(x, y)]\n",
    "    return jointree"
   ]
  },
  {
   "cell_type": "code",
   "execution_count": 4,
   "metadata": {
    "collapsed": true
   },
   "outputs": [],
   "source": [
    "# TODO create a rooted jointree right from the beginning\n",
    "def make_rooted(jointree, root=0):\n",
    "    n = max([max(i, j) for (i, j) in jointree])\n",
    "    used = [False] * len(jointree)\n",
    "    tree = dict()\n",
    "    nodes = [0]\n",
    "    while nodes:\n",
    "        k = nodes.pop(0)\n",
    "        tree[k] = []\n",
    "        for z, (i, j) in enumerate(jointree):\n",
    "            if used[z]: continue\n",
    "            if i != k and j != k: continue\n",
    "            if i == k: tree[k].append(j)\n",
    "            elif j == k: tree[k].append(i)\n",
    "            used[z] = True\n",
    "        nodes += tree[k]\n",
    "    return tree"
   ]
  },
  {
   "cell_type": "code",
   "execution_count": 32,
   "metadata": {
    "collapsed": false
   },
   "outputs": [],
   "source": [
    "def check_independence(sub, graph):\n",
    "    for v in sub:\n",
    "        if graph[v] & sub: return False\n",
    "    return True\n",
    "    \n",
    "def mwis(graph, clusters, jointree, weights, root):\n",
    "    child_mwis = dict()\n",
    "    for child in jointree[root]:\n",
    "        child_mwis[child] = mwis(graph, clusters, jointree, weights, child)\n",
    "    root_wmis = dict()\n",
    "    vertices = clusters[root]\n",
    "    for n in range(1, len(vertices)+1):\n",
    "        for sub_ in combinations(vertices, n):\n",
    "            sub = set(sub_)\n",
    "            if not check_independence(sub, graph): continue\n",
    "            w = sum([weights[i] for i in sub_])\n",
    "            w_ = None\n",
    "            for child in jointree[root]:\n",
    "                intersection = clusters[child] & sub\n",
    "                for (child_set, child_weight) in child_mwis[child].items():\n",
    "                    if not child_weight: continue\n",
    "                    child_set = set(child_set)\n",
    "                    if (child_set & vertices) == intersection:\n",
    "                        w_common = sum([weights[i] for i in sub & child_set])\n",
    "                        w_total = child_weight - w_common\n",
    "                        if not w_ or w_total > w_:\n",
    "                            w_ = w_total\n",
    "            root_wmis[sub_] = w + w_ if w_ else w\n",
    "    return root_wmis\n",
    "                    \n",
    "    "
   ]
  },
  {
   "cell_type": "code",
   "execution_count": 37,
   "metadata": {
    "collapsed": true
   },
   "outputs": [],
   "source": [
    "def get_mwis(graph, weights):\n",
    "    _, clusters = triangulate_graph(graph)\n",
    "    jointree = make_rooted(create_jointree(clusters))\n",
    "    res = mwis(graph, clusters, jointree, weights, 0)\n",
    "    return max(res.values())\n",
    "    "
   ]
  },
  {
   "cell_type": "code",
   "execution_count": 65,
   "metadata": {
    "collapsed": false
   },
   "outputs": [],
   "source": [
    "def mip_mis(graph, weights):\n",
    "    m = Model()\n",
    "    x = dict()\n",
    "    for v in graph:\n",
    "        x[v] = m.addVar(vtype=GRB.BINARY, obj=weights[v])\n",
    "    m.update()\n",
    "    for v in graph:\n",
    "        for u in graph[v]:\n",
    "            if u < v:\n",
    "                m.addConstr(x[u] + x[v] <= 1)\n",
    "    m.ModelSense = -1\n",
    "    m.params.OutputFlag = 0\n",
    "    m.optimize()\n",
    "    return m.ObjVal, [i for i in x if x[i].x]"
   ]
  },
  {
   "cell_type": "code",
   "execution_count": 55,
   "metadata": {
    "collapsed": false
   },
   "outputs": [
    {
     "name": "stdout",
     "output_type": "stream",
     "text": [
      "24\n",
      "28.0\n"
     ]
    }
   ],
   "source": [
    "fname = 'data/g10.pkl'\n",
    "with open(fname, 'rb') as f:\n",
    "    g = pickle.load(f)\n",
    "    w = {x: randint(1, 10) for x in g}\n",
    "    print(get_mwis(g, w))\n",
    "    print(mip_mis(g, w))"
   ]
  },
  {
   "cell_type": "code",
   "execution_count": 56,
   "metadata": {
    "collapsed": false,
    "scrolled": true
   },
   "outputs": [
    {
     "data": {
      "text/plain": [
       "24"
      ]
     },
     "execution_count": 56,
     "metadata": {},
     "output_type": "execute_result"
    }
   ],
   "source": [
    "get_mwis(g, w)"
   ]
  },
  {
   "cell_type": "code",
   "execution_count": 66,
   "metadata": {
    "collapsed": false
   },
   "outputs": [
    {
     "data": {
      "text/plain": [
       "(28.0, [0, 4, 7])"
      ]
     },
     "execution_count": 66,
     "metadata": {},
     "output_type": "execute_result"
    }
   ],
   "source": [
    "mip_mis(g, w)"
   ]
  }
 ],
 "metadata": {
  "kernelspec": {
   "display_name": "Python 3",
   "language": "python",
   "name": "python3"
  },
  "language_info": {
   "codemirror_mode": {
    "name": "ipython",
    "version": 3
   },
   "file_extension": ".py",
   "mimetype": "text/x-python",
   "name": "python",
   "nbconvert_exporter": "python",
   "pygments_lexer": "ipython3",
   "version": "3.4.3"
  }
 },
 "nbformat": 4,
 "nbformat_minor": 0
}
